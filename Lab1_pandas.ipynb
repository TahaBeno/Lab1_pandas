{
 "cells": [
  {
   "cell_type": "markdown",
   "metadata": {},
   "source": [
    " "
   ]
  },
  {
   "cell_type": "markdown",
   "metadata": {},
   "source": [
    "\n",
    "\n",
    "\n",
    "\n",
    "\n"
   ]
  },
  {
   "cell_type": "markdown",
   "metadata": {},
   "source": [
    "![green-divider](https://user-images.githubusercontent.com/7065401/52071924-c003ad80-2562-11e9-8297-1c6595f8a7ff.png)\n"
   ]
  },
  {
   "cell_type": "markdown",
   "metadata": {},
   "source": [
    "## Introduction à Pandas"
   ]
  },
  {
   "cell_type": "markdown",
   "metadata": {},
   "source": [
    "## A. Importer et examiner les données\n",
    "\n",
    "Pandas est très fort dans la lecture et le traitement des données structurées. Pour notre analyse, nous aurons besoins de lire les fichiers csv pour pouvoir les explorer. Nos données sont issues de Spotify et englobent plus de 160.000 pistes musicales extraites à partir de Spotify Web API. Ces informations sont également groupées par artiste, année, et genre musical. \n",
    "\n",
    "Le dossier music_dataset contient donc 5 fichiers csv:\n",
    "- data_by_artist\n",
    "- data_by_genres\n",
    "- data_by_year\n",
    "- data_w_genres\n",
    "- data\n",
    "\n",
    "Avant d'attaquer les données dans plus de détails, il est très judicieux de commencer par une exploration rapide. Ceci vous permettra de répondre aux questions: A quelles données ai-je affaire? Quelle est la qualité de ces données là?.... \n",
    "\n",
    "Les données sont extraites en utilisant l'API de Spotify. Pour plus de détails sur les métadata, vous pouvez explorer: https://developer.spotify.com/documentation/web-api/reference/"
   ]
  },
  {
   "cell_type": "code",
   "execution_count": null,
   "metadata": {},
   "outputs": [],
   "source": []
  },
  {
   "cell_type": "code",
   "execution_count": null,
   "metadata": {},
   "outputs": [],
   "source": []
  },
  {
   "cell_type": "markdown",
   "metadata": {},
   "source": [
    "#### 1. Importer les données"
   ]
  },
  {
   "cell_type": "markdown",
   "metadata": {},
   "source": [
    "Commencer par importer pandas en respectant la convention d'import."
   ]
  },
  {
   "cell_type": "code",
   "execution_count": 1,
   "metadata": {},
   "outputs": [],
   "source": [
    "import pandas as pd"
   ]
  },
  {
   "cell_type": "markdown",
   "metadata": {},
   "source": [
    "<br> Lire le fichier csv 'data.csv' relatif aux données des pistes dans une dataframe."
   ]
  },
  {
   "cell_type": "code",
   "execution_count": 2,
   "metadata": {},
   "outputs": [],
   "source": [
    "df=pd.read_csv(\"music_dataset/data.csv\")"
   ]
  },
  {
   "cell_type": "markdown",
   "metadata": {},
   "source": [
    "<br> Afficher les premières lignes de la dataframe créée."
   ]
  },
  {
   "cell_type": "code",
   "execution_count": 3,
   "metadata": {},
   "outputs": [
    {
     "data": {
      "text/html": [
       "<div>\n",
       "<style scoped>\n",
       "    .dataframe tbody tr th:only-of-type {\n",
       "        vertical-align: middle;\n",
       "    }\n",
       "\n",
       "    .dataframe tbody tr th {\n",
       "        vertical-align: top;\n",
       "    }\n",
       "\n",
       "    .dataframe thead th {\n",
       "        text-align: right;\n",
       "    }\n",
       "</style>\n",
       "<table border=\"1\" class=\"dataframe\">\n",
       "  <thead>\n",
       "    <tr style=\"text-align: right;\">\n",
       "      <th></th>\n",
       "      <th>acousticness</th>\n",
       "      <th>artists</th>\n",
       "      <th>danceability</th>\n",
       "      <th>duration_ms</th>\n",
       "      <th>energy</th>\n",
       "      <th>explicit</th>\n",
       "      <th>id</th>\n",
       "      <th>instrumentalness</th>\n",
       "      <th>key</th>\n",
       "      <th>liveness</th>\n",
       "      <th>loudness</th>\n",
       "      <th>mode</th>\n",
       "      <th>name</th>\n",
       "      <th>popularity</th>\n",
       "      <th>release_date</th>\n",
       "      <th>speechiness</th>\n",
       "      <th>tempo</th>\n",
       "      <th>valence</th>\n",
       "      <th>year</th>\n",
       "    </tr>\n",
       "  </thead>\n",
       "  <tbody>\n",
       "    <tr>\n",
       "      <th>0</th>\n",
       "      <td>0.995</td>\n",
       "      <td>['Carl Woitschach']</td>\n",
       "      <td>0.708</td>\n",
       "      <td>158648</td>\n",
       "      <td>0.19500</td>\n",
       "      <td>0</td>\n",
       "      <td>6KbQ3uYMLKb5jDxLF7wYDD</td>\n",
       "      <td>0.563000</td>\n",
       "      <td>10</td>\n",
       "      <td>0.1510</td>\n",
       "      <td>-12.428</td>\n",
       "      <td>1</td>\n",
       "      <td>Singende Bataillone 1. Teil</td>\n",
       "      <td>0</td>\n",
       "      <td>1928</td>\n",
       "      <td>0.0506</td>\n",
       "      <td>118.469</td>\n",
       "      <td>0.7790</td>\n",
       "      <td>1928</td>\n",
       "    </tr>\n",
       "    <tr>\n",
       "      <th>1</th>\n",
       "      <td>0.994</td>\n",
       "      <td>['Robert Schumann', 'Vladimir Horowitz']</td>\n",
       "      <td>0.379</td>\n",
       "      <td>282133</td>\n",
       "      <td>0.01350</td>\n",
       "      <td>0</td>\n",
       "      <td>6KuQTIu1KoTTkLXKrwlLPV</td>\n",
       "      <td>0.901000</td>\n",
       "      <td>8</td>\n",
       "      <td>0.0763</td>\n",
       "      <td>-28.454</td>\n",
       "      <td>1</td>\n",
       "      <td>Fantasiestücke, Op. 111: Più tosto lento</td>\n",
       "      <td>0</td>\n",
       "      <td>1928</td>\n",
       "      <td>0.0462</td>\n",
       "      <td>83.972</td>\n",
       "      <td>0.0767</td>\n",
       "      <td>1928</td>\n",
       "    </tr>\n",
       "    <tr>\n",
       "      <th>2</th>\n",
       "      <td>0.604</td>\n",
       "      <td>['Seweryn Goszczyński']</td>\n",
       "      <td>0.749</td>\n",
       "      <td>104300</td>\n",
       "      <td>0.22000</td>\n",
       "      <td>0</td>\n",
       "      <td>6L63VW0PibdM1HDSBoqnoM</td>\n",
       "      <td>0.000000</td>\n",
       "      <td>5</td>\n",
       "      <td>0.1190</td>\n",
       "      <td>-19.924</td>\n",
       "      <td>0</td>\n",
       "      <td>Chapter 1.18 - Zamek kaniowski</td>\n",
       "      <td>0</td>\n",
       "      <td>1928</td>\n",
       "      <td>0.9290</td>\n",
       "      <td>107.177</td>\n",
       "      <td>0.8800</td>\n",
       "      <td>1928</td>\n",
       "    </tr>\n",
       "    <tr>\n",
       "      <th>3</th>\n",
       "      <td>0.995</td>\n",
       "      <td>['Francisco Canaro']</td>\n",
       "      <td>0.781</td>\n",
       "      <td>180760</td>\n",
       "      <td>0.13000</td>\n",
       "      <td>0</td>\n",
       "      <td>6M94FkXd15sOAOQYRnWPN8</td>\n",
       "      <td>0.887000</td>\n",
       "      <td>1</td>\n",
       "      <td>0.1110</td>\n",
       "      <td>-14.734</td>\n",
       "      <td>0</td>\n",
       "      <td>Bebamos Juntos - Instrumental (Remasterizado)</td>\n",
       "      <td>0</td>\n",
       "      <td>1928-09-25</td>\n",
       "      <td>0.0926</td>\n",
       "      <td>108.003</td>\n",
       "      <td>0.7200</td>\n",
       "      <td>1928</td>\n",
       "    </tr>\n",
       "    <tr>\n",
       "      <th>4</th>\n",
       "      <td>0.990</td>\n",
       "      <td>['Frédéric Chopin', 'Vladimir Horowitz']</td>\n",
       "      <td>0.210</td>\n",
       "      <td>687733</td>\n",
       "      <td>0.20400</td>\n",
       "      <td>0</td>\n",
       "      <td>6N6tiFZ9vLTSOIxkj8qKrd</td>\n",
       "      <td>0.908000</td>\n",
       "      <td>11</td>\n",
       "      <td>0.0980</td>\n",
       "      <td>-16.829</td>\n",
       "      <td>1</td>\n",
       "      <td>Polonaise-Fantaisie in A-Flat Major, Op. 61</td>\n",
       "      <td>1</td>\n",
       "      <td>1928</td>\n",
       "      <td>0.0424</td>\n",
       "      <td>62.149</td>\n",
       "      <td>0.0693</td>\n",
       "      <td>1928</td>\n",
       "    </tr>\n",
       "    <tr>\n",
       "      <th>5</th>\n",
       "      <td>0.995</td>\n",
       "      <td>['Felix Mendelssohn', 'Vladimir Horowitz']</td>\n",
       "      <td>0.424</td>\n",
       "      <td>352600</td>\n",
       "      <td>0.12000</td>\n",
       "      <td>0</td>\n",
       "      <td>6NxAf7M8DNHOBTmEd3JSO5</td>\n",
       "      <td>0.911000</td>\n",
       "      <td>6</td>\n",
       "      <td>0.0915</td>\n",
       "      <td>-19.242</td>\n",
       "      <td>0</td>\n",
       "      <td>Scherzo a capriccio: Presto</td>\n",
       "      <td>0</td>\n",
       "      <td>1928</td>\n",
       "      <td>0.0593</td>\n",
       "      <td>63.521</td>\n",
       "      <td>0.2660</td>\n",
       "      <td>1928</td>\n",
       "    </tr>\n",
       "    <tr>\n",
       "      <th>6</th>\n",
       "      <td>0.956</td>\n",
       "      <td>['Franz Liszt', 'Vladimir Horowitz']</td>\n",
       "      <td>0.444</td>\n",
       "      <td>136627</td>\n",
       "      <td>0.19700</td>\n",
       "      <td>0</td>\n",
       "      <td>6O0puPuyrxPjDTHDUgsWI7</td>\n",
       "      <td>0.435000</td>\n",
       "      <td>11</td>\n",
       "      <td>0.0744</td>\n",
       "      <td>-17.226</td>\n",
       "      <td>1</td>\n",
       "      <td>Valse oubliée No. 1 in F-Sharp Major, S. 215/1</td>\n",
       "      <td>0</td>\n",
       "      <td>1928</td>\n",
       "      <td>0.0400</td>\n",
       "      <td>80.495</td>\n",
       "      <td>0.3050</td>\n",
       "      <td>1928</td>\n",
       "    </tr>\n",
       "    <tr>\n",
       "      <th>7</th>\n",
       "      <td>0.988</td>\n",
       "      <td>['Carl Woitschach']</td>\n",
       "      <td>0.555</td>\n",
       "      <td>153967</td>\n",
       "      <td>0.42100</td>\n",
       "      <td>0</td>\n",
       "      <td>6OJjveoYwJdIt76y0Pxpxw</td>\n",
       "      <td>0.836000</td>\n",
       "      <td>1</td>\n",
       "      <td>0.1050</td>\n",
       "      <td>-9.878</td>\n",
       "      <td>1</td>\n",
       "      <td>Per aspera ad astra</td>\n",
       "      <td>0</td>\n",
       "      <td>1928</td>\n",
       "      <td>0.0474</td>\n",
       "      <td>123.310</td>\n",
       "      <td>0.8570</td>\n",
       "      <td>1928</td>\n",
       "    </tr>\n",
       "    <tr>\n",
       "      <th>8</th>\n",
       "      <td>0.995</td>\n",
       "      <td>['Francisco Canaro', 'Charlo']</td>\n",
       "      <td>0.683</td>\n",
       "      <td>162493</td>\n",
       "      <td>0.20700</td>\n",
       "      <td>0</td>\n",
       "      <td>6OaJ8Bh7lsBeYoBmwmo2nh</td>\n",
       "      <td>0.206000</td>\n",
       "      <td>9</td>\n",
       "      <td>0.3370</td>\n",
       "      <td>-9.801</td>\n",
       "      <td>0</td>\n",
       "      <td>Moneda Corriente - Remasterizado</td>\n",
       "      <td>0</td>\n",
       "      <td>1928-10-03</td>\n",
       "      <td>0.1270</td>\n",
       "      <td>119.833</td>\n",
       "      <td>0.4930</td>\n",
       "      <td>1928</td>\n",
       "    </tr>\n",
       "    <tr>\n",
       "      <th>9</th>\n",
       "      <td>0.846</td>\n",
       "      <td>['Seweryn Goszczyński']</td>\n",
       "      <td>0.674</td>\n",
       "      <td>111600</td>\n",
       "      <td>0.20500</td>\n",
       "      <td>0</td>\n",
       "      <td>6PrZexNb16cabXR8Q418Xc</td>\n",
       "      <td>0.000000</td>\n",
       "      <td>9</td>\n",
       "      <td>0.1700</td>\n",
       "      <td>-20.119</td>\n",
       "      <td>1</td>\n",
       "      <td>Chapter 1.3 - Zamek kaniowski</td>\n",
       "      <td>0</td>\n",
       "      <td>1928</td>\n",
       "      <td>0.9540</td>\n",
       "      <td>81.249</td>\n",
       "      <td>0.7590</td>\n",
       "      <td>1928</td>\n",
       "    </tr>\n",
       "    <tr>\n",
       "      <th>10</th>\n",
       "      <td>0.994</td>\n",
       "      <td>['Sergei Rachmaninoff', 'Vladimir Horowitz']</td>\n",
       "      <td>0.376</td>\n",
       "      <td>590293</td>\n",
       "      <td>0.07190</td>\n",
       "      <td>0</td>\n",
       "      <td>6QBInZBkQNIQYU9gGzT5l4</td>\n",
       "      <td>0.883000</td>\n",
       "      <td>10</td>\n",
       "      <td>0.1960</td>\n",
       "      <td>-21.849</td>\n",
       "      <td>0</td>\n",
       "      <td>Piano Sonata No. 2 in B-Flat Minor, Op. 36: I....</td>\n",
       "      <td>0</td>\n",
       "      <td>1928</td>\n",
       "      <td>0.0352</td>\n",
       "      <td>141.390</td>\n",
       "      <td>0.0393</td>\n",
       "      <td>1928</td>\n",
       "    </tr>\n",
       "    <tr>\n",
       "      <th>11</th>\n",
       "      <td>0.989</td>\n",
       "      <td>['Frédéric Chopin', 'Vladimir Horowitz']</td>\n",
       "      <td>0.170</td>\n",
       "      <td>85133</td>\n",
       "      <td>0.08230</td>\n",
       "      <td>0</td>\n",
       "      <td>6QIONtzbQCbnmWNwn0H1yT</td>\n",
       "      <td>0.911000</td>\n",
       "      <td>10</td>\n",
       "      <td>0.0962</td>\n",
       "      <td>-30.107</td>\n",
       "      <td>0</td>\n",
       "      <td>Piano Sonata No. 2, Op. 35: IV. Finale. Presto</td>\n",
       "      <td>1</td>\n",
       "      <td>1928</td>\n",
       "      <td>0.0317</td>\n",
       "      <td>85.989</td>\n",
       "      <td>0.3460</td>\n",
       "      <td>1928</td>\n",
       "    </tr>\n",
       "    <tr>\n",
       "      <th>12</th>\n",
       "      <td>0.990</td>\n",
       "      <td>['Samuel Barber', 'Vladimir Horowitz']</td>\n",
       "      <td>0.359</td>\n",
       "      <td>338333</td>\n",
       "      <td>0.04350</td>\n",
       "      <td>0</td>\n",
       "      <td>6QgdUySTRGVkNo3KwbHpK3</td>\n",
       "      <td>0.899000</td>\n",
       "      <td>7</td>\n",
       "      <td>0.1090</td>\n",
       "      <td>-20.858</td>\n",
       "      <td>1</td>\n",
       "      <td>Piano Sonata in E-Flat Minor, Op. 26: III. Ada...</td>\n",
       "      <td>0</td>\n",
       "      <td>1928</td>\n",
       "      <td>0.0424</td>\n",
       "      <td>96.645</td>\n",
       "      <td>0.0420</td>\n",
       "      <td>1928</td>\n",
       "    </tr>\n",
       "    <tr>\n",
       "      <th>13</th>\n",
       "      <td>0.992</td>\n",
       "      <td>['Robert Schumann', 'Vladimir Horowitz']</td>\n",
       "      <td>0.311</td>\n",
       "      <td>167333</td>\n",
       "      <td>0.01070</td>\n",
       "      <td>0</td>\n",
       "      <td>6RvSNoCPBZeTR2LyGvdJOw</td>\n",
       "      <td>0.883000</td>\n",
       "      <td>5</td>\n",
       "      <td>0.0954</td>\n",
       "      <td>-35.648</td>\n",
       "      <td>1</td>\n",
       "      <td>Nachtstücke, Op. 23: No. 4 in F</td>\n",
       "      <td>0</td>\n",
       "      <td>1928</td>\n",
       "      <td>0.0556</td>\n",
       "      <td>78.980</td>\n",
       "      <td>0.2160</td>\n",
       "      <td>1928</td>\n",
       "    </tr>\n",
       "    <tr>\n",
       "      <th>14</th>\n",
       "      <td>0.977</td>\n",
       "      <td>['Ludwig van Beethoven', 'Staatskapelle Berlin...</td>\n",
       "      <td>0.335</td>\n",
       "      <td>276563</td>\n",
       "      <td>0.10500</td>\n",
       "      <td>0</td>\n",
       "      <td>6Rwn56jcC0TdGQzbRl7NGw</td>\n",
       "      <td>0.840000</td>\n",
       "      <td>5</td>\n",
       "      <td>0.2310</td>\n",
       "      <td>-16.049</td>\n",
       "      <td>0</td>\n",
       "      <td>Symphony No. 5 in C Minor, Op. 67: 3. Allegro</td>\n",
       "      <td>0</td>\n",
       "      <td>1928-01-01</td>\n",
       "      <td>0.0716</td>\n",
       "      <td>80.204</td>\n",
       "      <td>0.4060</td>\n",
       "      <td>1928</td>\n",
       "    </tr>\n",
       "    <tr>\n",
       "      <th>15</th>\n",
       "      <td>0.991</td>\n",
       "      <td>['George Butterworth', 'John Cameron']</td>\n",
       "      <td>0.319</td>\n",
       "      <td>184840</td>\n",
       "      <td>0.00593</td>\n",
       "      <td>0</td>\n",
       "      <td>6Sdpmree8xpGWaedACPMlP</td>\n",
       "      <td>0.000063</td>\n",
       "      <td>7</td>\n",
       "      <td>0.0691</td>\n",
       "      <td>-25.789</td>\n",
       "      <td>0</td>\n",
       "      <td>A Shropshire Lad: Is My Team Ploughing?</td>\n",
       "      <td>0</td>\n",
       "      <td>1928</td>\n",
       "      <td>0.0510</td>\n",
       "      <td>79.831</td>\n",
       "      <td>0.1690</td>\n",
       "      <td>1928</td>\n",
       "    </tr>\n",
       "    <tr>\n",
       "      <th>16</th>\n",
       "      <td>0.996</td>\n",
       "      <td>['Alexander Scriabin', 'Vladimir Horowitz']</td>\n",
       "      <td>0.319</td>\n",
       "      <td>326067</td>\n",
       "      <td>0.15500</td>\n",
       "      <td>0</td>\n",
       "      <td>6T0mZB7p3qzOifdXZ3Su9P</td>\n",
       "      <td>0.917000</td>\n",
       "      <td>4</td>\n",
       "      <td>0.1260</td>\n",
       "      <td>-18.728</td>\n",
       "      <td>1</td>\n",
       "      <td>Sonata No. 3, Op. 23 in F-Sharp Minor: IV. Pre...</td>\n",
       "      <td>0</td>\n",
       "      <td>1928</td>\n",
       "      <td>0.0360</td>\n",
       "      <td>66.947</td>\n",
       "      <td>0.0488</td>\n",
       "      <td>1928</td>\n",
       "    </tr>\n",
       "    <tr>\n",
       "      <th>17</th>\n",
       "      <td>0.994</td>\n",
       "      <td>['Francisco Canaro', 'Luis Scalon']</td>\n",
       "      <td>0.787</td>\n",
       "      <td>167107</td>\n",
       "      <td>0.15600</td>\n",
       "      <td>0</td>\n",
       "      <td>6TFuAErGpJ9FpxQQ1HC8nM</td>\n",
       "      <td>0.659000</td>\n",
       "      <td>4</td>\n",
       "      <td>0.1100</td>\n",
       "      <td>-14.056</td>\n",
       "      <td>0</td>\n",
       "      <td>Invocación al Tango - Remasterizado</td>\n",
       "      <td>0</td>\n",
       "      <td>1928-09-16</td>\n",
       "      <td>0.1570</td>\n",
       "      <td>117.167</td>\n",
       "      <td>0.8490</td>\n",
       "      <td>1928</td>\n",
       "    </tr>\n",
       "    <tr>\n",
       "      <th>18</th>\n",
       "      <td>0.993</td>\n",
       "      <td>['Thomas Arne', 'John Heddle Nash']</td>\n",
       "      <td>0.569</td>\n",
       "      <td>122533</td>\n",
       "      <td>0.15000</td>\n",
       "      <td>0</td>\n",
       "      <td>6UUfiNT82MWBNnmsE2ZNWf</td>\n",
       "      <td>0.001500</td>\n",
       "      <td>5</td>\n",
       "      <td>0.1060</td>\n",
       "      <td>-15.238</td>\n",
       "      <td>1</td>\n",
       "      <td>Where the Bee Sucks</td>\n",
       "      <td>0</td>\n",
       "      <td>1928</td>\n",
       "      <td>0.0474</td>\n",
       "      <td>76.930</td>\n",
       "      <td>0.5960</td>\n",
       "      <td>1928</td>\n",
       "    </tr>\n",
       "    <tr>\n",
       "      <th>19</th>\n",
       "      <td>0.992</td>\n",
       "      <td>['Francisco Canaro']</td>\n",
       "      <td>0.763</td>\n",
       "      <td>173707</td>\n",
       "      <td>0.13200</td>\n",
       "      <td>0</td>\n",
       "      <td>6Ukl7n0q3Cjd0Og8uBmVeP</td>\n",
       "      <td>0.069300</td>\n",
       "      <td>4</td>\n",
       "      <td>0.1120</td>\n",
       "      <td>-13.002</td>\n",
       "      <td>1</td>\n",
       "      <td>Tendrás Que Llorar Conmigo - Instrumental (Rem...</td>\n",
       "      <td>0</td>\n",
       "      <td>1928-09-17</td>\n",
       "      <td>0.0886</td>\n",
       "      <td>111.679</td>\n",
       "      <td>0.8320</td>\n",
       "      <td>1928</td>\n",
       "    </tr>\n",
       "  </tbody>\n",
       "</table>\n",
       "</div>"
      ],
      "text/plain": [
       "    acousticness                                            artists  \\\n",
       "0          0.995                                ['Carl Woitschach']   \n",
       "1          0.994           ['Robert Schumann', 'Vladimir Horowitz']   \n",
       "2          0.604                            ['Seweryn Goszczyński']   \n",
       "3          0.995                               ['Francisco Canaro']   \n",
       "4          0.990           ['Frédéric Chopin', 'Vladimir Horowitz']   \n",
       "5          0.995         ['Felix Mendelssohn', 'Vladimir Horowitz']   \n",
       "6          0.956               ['Franz Liszt', 'Vladimir Horowitz']   \n",
       "7          0.988                                ['Carl Woitschach']   \n",
       "8          0.995                     ['Francisco Canaro', 'Charlo']   \n",
       "9          0.846                            ['Seweryn Goszczyński']   \n",
       "10         0.994       ['Sergei Rachmaninoff', 'Vladimir Horowitz']   \n",
       "11         0.989           ['Frédéric Chopin', 'Vladimir Horowitz']   \n",
       "12         0.990             ['Samuel Barber', 'Vladimir Horowitz']   \n",
       "13         0.992           ['Robert Schumann', 'Vladimir Horowitz']   \n",
       "14         0.977  ['Ludwig van Beethoven', 'Staatskapelle Berlin...   \n",
       "15         0.991             ['George Butterworth', 'John Cameron']   \n",
       "16         0.996        ['Alexander Scriabin', 'Vladimir Horowitz']   \n",
       "17         0.994                ['Francisco Canaro', 'Luis Scalon']   \n",
       "18         0.993                ['Thomas Arne', 'John Heddle Nash']   \n",
       "19         0.992                               ['Francisco Canaro']   \n",
       "\n",
       "    danceability  duration_ms   energy  explicit                      id  \\\n",
       "0          0.708       158648  0.19500         0  6KbQ3uYMLKb5jDxLF7wYDD   \n",
       "1          0.379       282133  0.01350         0  6KuQTIu1KoTTkLXKrwlLPV   \n",
       "2          0.749       104300  0.22000         0  6L63VW0PibdM1HDSBoqnoM   \n",
       "3          0.781       180760  0.13000         0  6M94FkXd15sOAOQYRnWPN8   \n",
       "4          0.210       687733  0.20400         0  6N6tiFZ9vLTSOIxkj8qKrd   \n",
       "5          0.424       352600  0.12000         0  6NxAf7M8DNHOBTmEd3JSO5   \n",
       "6          0.444       136627  0.19700         0  6O0puPuyrxPjDTHDUgsWI7   \n",
       "7          0.555       153967  0.42100         0  6OJjveoYwJdIt76y0Pxpxw   \n",
       "8          0.683       162493  0.20700         0  6OaJ8Bh7lsBeYoBmwmo2nh   \n",
       "9          0.674       111600  0.20500         0  6PrZexNb16cabXR8Q418Xc   \n",
       "10         0.376       590293  0.07190         0  6QBInZBkQNIQYU9gGzT5l4   \n",
       "11         0.170        85133  0.08230         0  6QIONtzbQCbnmWNwn0H1yT   \n",
       "12         0.359       338333  0.04350         0  6QgdUySTRGVkNo3KwbHpK3   \n",
       "13         0.311       167333  0.01070         0  6RvSNoCPBZeTR2LyGvdJOw   \n",
       "14         0.335       276563  0.10500         0  6Rwn56jcC0TdGQzbRl7NGw   \n",
       "15         0.319       184840  0.00593         0  6Sdpmree8xpGWaedACPMlP   \n",
       "16         0.319       326067  0.15500         0  6T0mZB7p3qzOifdXZ3Su9P   \n",
       "17         0.787       167107  0.15600         0  6TFuAErGpJ9FpxQQ1HC8nM   \n",
       "18         0.569       122533  0.15000         0  6UUfiNT82MWBNnmsE2ZNWf   \n",
       "19         0.763       173707  0.13200         0  6Ukl7n0q3Cjd0Og8uBmVeP   \n",
       "\n",
       "    instrumentalness  key  liveness  loudness  mode  \\\n",
       "0           0.563000   10    0.1510   -12.428     1   \n",
       "1           0.901000    8    0.0763   -28.454     1   \n",
       "2           0.000000    5    0.1190   -19.924     0   \n",
       "3           0.887000    1    0.1110   -14.734     0   \n",
       "4           0.908000   11    0.0980   -16.829     1   \n",
       "5           0.911000    6    0.0915   -19.242     0   \n",
       "6           0.435000   11    0.0744   -17.226     1   \n",
       "7           0.836000    1    0.1050    -9.878     1   \n",
       "8           0.206000    9    0.3370    -9.801     0   \n",
       "9           0.000000    9    0.1700   -20.119     1   \n",
       "10          0.883000   10    0.1960   -21.849     0   \n",
       "11          0.911000   10    0.0962   -30.107     0   \n",
       "12          0.899000    7    0.1090   -20.858     1   \n",
       "13          0.883000    5    0.0954   -35.648     1   \n",
       "14          0.840000    5    0.2310   -16.049     0   \n",
       "15          0.000063    7    0.0691   -25.789     0   \n",
       "16          0.917000    4    0.1260   -18.728     1   \n",
       "17          0.659000    4    0.1100   -14.056     0   \n",
       "18          0.001500    5    0.1060   -15.238     1   \n",
       "19          0.069300    4    0.1120   -13.002     1   \n",
       "\n",
       "                                                 name  popularity  \\\n",
       "0                         Singende Bataillone 1. Teil           0   \n",
       "1            Fantasiestücke, Op. 111: Più tosto lento           0   \n",
       "2                      Chapter 1.18 - Zamek kaniowski           0   \n",
       "3       Bebamos Juntos - Instrumental (Remasterizado)           0   \n",
       "4         Polonaise-Fantaisie in A-Flat Major, Op. 61           1   \n",
       "5                         Scherzo a capriccio: Presto           0   \n",
       "6      Valse oubliée No. 1 in F-Sharp Major, S. 215/1           0   \n",
       "7                                 Per aspera ad astra           0   \n",
       "8                    Moneda Corriente - Remasterizado           0   \n",
       "9                       Chapter 1.3 - Zamek kaniowski           0   \n",
       "10  Piano Sonata No. 2 in B-Flat Minor, Op. 36: I....           0   \n",
       "11     Piano Sonata No. 2, Op. 35: IV. Finale. Presto           1   \n",
       "12  Piano Sonata in E-Flat Minor, Op. 26: III. Ada...           0   \n",
       "13                    Nachtstücke, Op. 23: No. 4 in F           0   \n",
       "14      Symphony No. 5 in C Minor, Op. 67: 3. Allegro           0   \n",
       "15            A Shropshire Lad: Is My Team Ploughing?           0   \n",
       "16  Sonata No. 3, Op. 23 in F-Sharp Minor: IV. Pre...           0   \n",
       "17                Invocación al Tango - Remasterizado           0   \n",
       "18                                Where the Bee Sucks           0   \n",
       "19  Tendrás Que Llorar Conmigo - Instrumental (Rem...           0   \n",
       "\n",
       "   release_date  speechiness    tempo  valence  year  \n",
       "0          1928       0.0506  118.469   0.7790  1928  \n",
       "1          1928       0.0462   83.972   0.0767  1928  \n",
       "2          1928       0.9290  107.177   0.8800  1928  \n",
       "3    1928-09-25       0.0926  108.003   0.7200  1928  \n",
       "4          1928       0.0424   62.149   0.0693  1928  \n",
       "5          1928       0.0593   63.521   0.2660  1928  \n",
       "6          1928       0.0400   80.495   0.3050  1928  \n",
       "7          1928       0.0474  123.310   0.8570  1928  \n",
       "8    1928-10-03       0.1270  119.833   0.4930  1928  \n",
       "9          1928       0.9540   81.249   0.7590  1928  \n",
       "10         1928       0.0352  141.390   0.0393  1928  \n",
       "11         1928       0.0317   85.989   0.3460  1928  \n",
       "12         1928       0.0424   96.645   0.0420  1928  \n",
       "13         1928       0.0556   78.980   0.2160  1928  \n",
       "14   1928-01-01       0.0716   80.204   0.4060  1928  \n",
       "15         1928       0.0510   79.831   0.1690  1928  \n",
       "16         1928       0.0360   66.947   0.0488  1928  \n",
       "17   1928-09-16       0.1570  117.167   0.8490  1928  \n",
       "18         1928       0.0474   76.930   0.5960  1928  \n",
       "19   1928-09-17       0.0886  111.679   0.8320  1928  "
      ]
     },
     "execution_count": 3,
     "metadata": {},
     "output_type": "execute_result"
    }
   ],
   "source": [
    "df.head(20)"
   ]
  },
  {
   "cell_type": "markdown",
   "metadata": {},
   "source": [
    "<br> Afficher la taille et la forme de votre dataframe. "
   ]
  },
  {
   "cell_type": "code",
   "execution_count": 4,
   "metadata": {},
   "outputs": [
    {
     "data": {
      "text/plain": [
       "3228271"
      ]
     },
     "execution_count": 4,
     "metadata": {},
     "output_type": "execute_result"
    }
   ],
   "source": [
    "df.size # taille de la dataframe"
   ]
  },
  {
   "cell_type": "code",
   "execution_count": 5,
   "metadata": {},
   "outputs": [
    {
     "data": {
      "text/plain": [
       "(169909, 19)"
      ]
     },
     "execution_count": 5,
     "metadata": {},
     "output_type": "execute_result"
    }
   ],
   "source": [
    "df.shape"
   ]
  },
  {
   "cell_type": "markdown",
   "metadata": {},
   "source": [
    "<br></br>\n",
    "#### 2. Examiner vos données:"
   ]
  },
  {
   "cell_type": "markdown",
   "metadata": {},
   "source": [
    "<br> Dresser une liste des colonnes avec une description de leurs types, valeurs possibles (intervales si numérique)... Penser à utiliser les différentes fonctions Pandas disponibles. "
   ]
  },
  {
   "cell_type": "code",
   "execution_count": 6,
   "metadata": {},
   "outputs": [
    {
     "data": {
      "text/plain": [
       "['acousticness',\n",
       " 'artists',\n",
       " 'danceability',\n",
       " 'duration_ms',\n",
       " 'energy',\n",
       " 'explicit',\n",
       " 'id',\n",
       " 'instrumentalness',\n",
       " 'key',\n",
       " 'liveness',\n",
       " 'loudness',\n",
       " 'mode',\n",
       " 'name',\n",
       " 'popularity',\n",
       " 'release_date',\n",
       " 'speechiness',\n",
       " 'tempo',\n",
       " 'valence',\n",
       " 'year']"
      ]
     },
     "execution_count": 6,
     "metadata": {},
     "output_type": "execute_result"
    }
   ],
   "source": [
    "liste=df.columns.tolist()\n",
    "liste"
   ]
  },
  {
   "cell_type": "code",
   "execution_count": 7,
   "metadata": {},
   "outputs": [
    {
     "data": {
      "text/plain": [
       "acousticness        float64\n",
       "artists              object\n",
       "danceability        float64\n",
       "duration_ms           int64\n",
       "energy              float64\n",
       "explicit              int64\n",
       "id                   object\n",
       "instrumentalness    float64\n",
       "key                   int64\n",
       "liveness            float64\n",
       "loudness            float64\n",
       "mode                  int64\n",
       "name                 object\n",
       "popularity            int64\n",
       "release_date         object\n",
       "speechiness         float64\n",
       "tempo               float64\n",
       "valence             float64\n",
       "year                  int64\n",
       "dtype: object"
      ]
     },
     "execution_count": 7,
     "metadata": {},
     "output_type": "execute_result"
    }
   ],
   "source": [
    "df.dtypes"
   ]
  },
  {
   "cell_type": "code",
   "execution_count": 8,
   "metadata": {},
   "outputs": [
    {
     "name": "stdout",
     "output_type": "stream",
     "text": [
      "Les valeurs prises dans la colonne acousticness sont entre :  0.0 et 0.996\n",
      "Les valeurs prises dans la colonne danceability sont entre :  0.0 et 0.988\n",
      "Les valeurs prises dans la colonne duration_ms sont entre :  5108 et 5403500\n",
      "Les valeurs prises dans la colonne energy sont entre :  0.0 et 1.0\n"
     ]
    }
   ],
   "source": [
    "minimum = df['acousticness'].min()\n",
    "maximum = df['acousticness'].max()\n",
    "print(\"Les valeurs prises dans la colonne acousticness sont entre : \", minimum , \"et\", maximum)\n",
    "\n",
    "minimum = df['danceability'].min()\n",
    "maximum = df['danceability'].max()\n",
    "print(\"Les valeurs prises dans la colonne danceability sont entre : \", minimum , \"et\", maximum)\n",
    "\n",
    "minimum = df['duration_ms'].min()\n",
    "maximum = df['duration_ms'].max()\n",
    "print(\"Les valeurs prises dans la colonne duration_ms sont entre : \", minimum , \"et\", maximum)\n",
    "\n",
    "minimum = df['energy'].min()\n",
    "maximum = df['energy'].max()\n",
    "print(\"Les valeurs prises dans la colonne energy sont entre : \", minimum , \"et\", maximum)\n",
    "\n"
   ]
  },
  {
   "cell_type": "code",
   "execution_count": null,
   "metadata": {},
   "outputs": [],
   "source": []
  },
  {
   "cell_type": "markdown",
   "metadata": {},
   "source": [
    "<br></br>\n",
    "#### 2. Modifier vos données:"
   ]
  },
  {
   "cell_type": "markdown",
   "metadata": {},
   "source": [
    "<br> Changer le type de la colonne popularité en un int."
   ]
  },
  {
   "cell_type": "code",
   "execution_count": 9,
   "metadata": {},
   "outputs": [
    {
     "data": {
      "text/plain": [
       "acousticness        float64\n",
       "artists              object\n",
       "danceability        float64\n",
       "duration_ms           int64\n",
       "energy              float64\n",
       "explicit              int64\n",
       "id                   object\n",
       "instrumentalness    float64\n",
       "key                   int64\n",
       "liveness            float64\n",
       "loudness            float64\n",
       "mode                  int64\n",
       "name                 object\n",
       "popularity            int32\n",
       "release_date         object\n",
       "speechiness         float64\n",
       "tempo               float64\n",
       "valence             float64\n",
       "year                  int64\n",
       "dtype: object"
      ]
     },
     "execution_count": 9,
     "metadata": {},
     "output_type": "execute_result"
    }
   ],
   "source": [
    "df.astype({'popularity': 'int'}).dtypes"
   ]
  },
  {
   "cell_type": "markdown",
   "metadata": {},
   "source": [
    "<br> Spécifier que l'index de la Dataframe est le nom de la piste. Puis revenez à l'index d'origine."
   ]
  },
  {
   "cell_type": "code",
   "execution_count": 10,
   "metadata": {},
   "outputs": [
    {
     "data": {
      "text/html": [
       "<div>\n",
       "<style scoped>\n",
       "    .dataframe tbody tr th:only-of-type {\n",
       "        vertical-align: middle;\n",
       "    }\n",
       "\n",
       "    .dataframe tbody tr th {\n",
       "        vertical-align: top;\n",
       "    }\n",
       "\n",
       "    .dataframe thead th {\n",
       "        text-align: right;\n",
       "    }\n",
       "</style>\n",
       "<table border=\"1\" class=\"dataframe\">\n",
       "  <thead>\n",
       "    <tr style=\"text-align: right;\">\n",
       "      <th></th>\n",
       "      <th>acousticness</th>\n",
       "      <th>artists</th>\n",
       "      <th>danceability</th>\n",
       "      <th>duration_ms</th>\n",
       "      <th>energy</th>\n",
       "      <th>explicit</th>\n",
       "      <th>id</th>\n",
       "      <th>instrumentalness</th>\n",
       "      <th>key</th>\n",
       "      <th>liveness</th>\n",
       "      <th>loudness</th>\n",
       "      <th>mode</th>\n",
       "      <th>popularity</th>\n",
       "      <th>release_date</th>\n",
       "      <th>speechiness</th>\n",
       "      <th>tempo</th>\n",
       "      <th>valence</th>\n",
       "      <th>year</th>\n",
       "    </tr>\n",
       "    <tr>\n",
       "      <th>name</th>\n",
       "      <th></th>\n",
       "      <th></th>\n",
       "      <th></th>\n",
       "      <th></th>\n",
       "      <th></th>\n",
       "      <th></th>\n",
       "      <th></th>\n",
       "      <th></th>\n",
       "      <th></th>\n",
       "      <th></th>\n",
       "      <th></th>\n",
       "      <th></th>\n",
       "      <th></th>\n",
       "      <th></th>\n",
       "      <th></th>\n",
       "      <th></th>\n",
       "      <th></th>\n",
       "      <th></th>\n",
       "    </tr>\n",
       "  </thead>\n",
       "  <tbody>\n",
       "    <tr>\n",
       "      <th>Singende Bataillone 1. Teil</th>\n",
       "      <td>0.9950</td>\n",
       "      <td>['Carl Woitschach']</td>\n",
       "      <td>0.708</td>\n",
       "      <td>158648</td>\n",
       "      <td>0.1950</td>\n",
       "      <td>0</td>\n",
       "      <td>6KbQ3uYMLKb5jDxLF7wYDD</td>\n",
       "      <td>0.563000</td>\n",
       "      <td>10</td>\n",
       "      <td>0.1510</td>\n",
       "      <td>-12.428</td>\n",
       "      <td>1</td>\n",
       "      <td>0</td>\n",
       "      <td>1928</td>\n",
       "      <td>0.0506</td>\n",
       "      <td>118.469</td>\n",
       "      <td>0.7790</td>\n",
       "      <td>1928</td>\n",
       "    </tr>\n",
       "    <tr>\n",
       "      <th>Fantasiestücke, Op. 111: Più tosto lento</th>\n",
       "      <td>0.9940</td>\n",
       "      <td>['Robert Schumann', 'Vladimir Horowitz']</td>\n",
       "      <td>0.379</td>\n",
       "      <td>282133</td>\n",
       "      <td>0.0135</td>\n",
       "      <td>0</td>\n",
       "      <td>6KuQTIu1KoTTkLXKrwlLPV</td>\n",
       "      <td>0.901000</td>\n",
       "      <td>8</td>\n",
       "      <td>0.0763</td>\n",
       "      <td>-28.454</td>\n",
       "      <td>1</td>\n",
       "      <td>0</td>\n",
       "      <td>1928</td>\n",
       "      <td>0.0462</td>\n",
       "      <td>83.972</td>\n",
       "      <td>0.0767</td>\n",
       "      <td>1928</td>\n",
       "    </tr>\n",
       "    <tr>\n",
       "      <th>Chapter 1.18 - Zamek kaniowski</th>\n",
       "      <td>0.6040</td>\n",
       "      <td>['Seweryn Goszczyński']</td>\n",
       "      <td>0.749</td>\n",
       "      <td>104300</td>\n",
       "      <td>0.2200</td>\n",
       "      <td>0</td>\n",
       "      <td>6L63VW0PibdM1HDSBoqnoM</td>\n",
       "      <td>0.000000</td>\n",
       "      <td>5</td>\n",
       "      <td>0.1190</td>\n",
       "      <td>-19.924</td>\n",
       "      <td>0</td>\n",
       "      <td>0</td>\n",
       "      <td>1928</td>\n",
       "      <td>0.9290</td>\n",
       "      <td>107.177</td>\n",
       "      <td>0.8800</td>\n",
       "      <td>1928</td>\n",
       "    </tr>\n",
       "    <tr>\n",
       "      <th>Bebamos Juntos - Instrumental (Remasterizado)</th>\n",
       "      <td>0.9950</td>\n",
       "      <td>['Francisco Canaro']</td>\n",
       "      <td>0.781</td>\n",
       "      <td>180760</td>\n",
       "      <td>0.1300</td>\n",
       "      <td>0</td>\n",
       "      <td>6M94FkXd15sOAOQYRnWPN8</td>\n",
       "      <td>0.887000</td>\n",
       "      <td>1</td>\n",
       "      <td>0.1110</td>\n",
       "      <td>-14.734</td>\n",
       "      <td>0</td>\n",
       "      <td>0</td>\n",
       "      <td>1928-09-25</td>\n",
       "      <td>0.0926</td>\n",
       "      <td>108.003</td>\n",
       "      <td>0.7200</td>\n",
       "      <td>1928</td>\n",
       "    </tr>\n",
       "    <tr>\n",
       "      <th>Polonaise-Fantaisie in A-Flat Major, Op. 61</th>\n",
       "      <td>0.9900</td>\n",
       "      <td>['Frédéric Chopin', 'Vladimir Horowitz']</td>\n",
       "      <td>0.210</td>\n",
       "      <td>687733</td>\n",
       "      <td>0.2040</td>\n",
       "      <td>0</td>\n",
       "      <td>6N6tiFZ9vLTSOIxkj8qKrd</td>\n",
       "      <td>0.908000</td>\n",
       "      <td>11</td>\n",
       "      <td>0.0980</td>\n",
       "      <td>-16.829</td>\n",
       "      <td>1</td>\n",
       "      <td>1</td>\n",
       "      <td>1928</td>\n",
       "      <td>0.0424</td>\n",
       "      <td>62.149</td>\n",
       "      <td>0.0693</td>\n",
       "      <td>1928</td>\n",
       "    </tr>\n",
       "    <tr>\n",
       "      <th>...</th>\n",
       "      <td>...</td>\n",
       "      <td>...</td>\n",
       "      <td>...</td>\n",
       "      <td>...</td>\n",
       "      <td>...</td>\n",
       "      <td>...</td>\n",
       "      <td>...</td>\n",
       "      <td>...</td>\n",
       "      <td>...</td>\n",
       "      <td>...</td>\n",
       "      <td>...</td>\n",
       "      <td>...</td>\n",
       "      <td>...</td>\n",
       "      <td>...</td>\n",
       "      <td>...</td>\n",
       "      <td>...</td>\n",
       "      <td>...</td>\n",
       "      <td>...</td>\n",
       "    </tr>\n",
       "    <tr>\n",
       "      <th>Skechers (feat. Tyga) - Remix</th>\n",
       "      <td>0.1730</td>\n",
       "      <td>['DripReport', 'Tyga']</td>\n",
       "      <td>0.875</td>\n",
       "      <td>163800</td>\n",
       "      <td>0.4430</td>\n",
       "      <td>1</td>\n",
       "      <td>4KppkflX7I3vJQk7urOJaS</td>\n",
       "      <td>0.000032</td>\n",
       "      <td>1</td>\n",
       "      <td>0.0891</td>\n",
       "      <td>-7.461</td>\n",
       "      <td>1</td>\n",
       "      <td>75</td>\n",
       "      <td>2020-05-15</td>\n",
       "      <td>0.1430</td>\n",
       "      <td>100.012</td>\n",
       "      <td>0.3060</td>\n",
       "      <td>2020</td>\n",
       "    </tr>\n",
       "    <tr>\n",
       "      <th>Sweeter (feat. Terrace Martin)</th>\n",
       "      <td>0.0167</td>\n",
       "      <td>['Leon Bridges', 'Terrace Martin']</td>\n",
       "      <td>0.719</td>\n",
       "      <td>167468</td>\n",
       "      <td>0.3850</td>\n",
       "      <td>0</td>\n",
       "      <td>1ehhGlTvjtHo2e4xJFB0SZ</td>\n",
       "      <td>0.031300</td>\n",
       "      <td>8</td>\n",
       "      <td>0.1110</td>\n",
       "      <td>-10.907</td>\n",
       "      <td>1</td>\n",
       "      <td>64</td>\n",
       "      <td>2020-06-08</td>\n",
       "      <td>0.0403</td>\n",
       "      <td>128.000</td>\n",
       "      <td>0.2700</td>\n",
       "      <td>2020</td>\n",
       "    </tr>\n",
       "    <tr>\n",
       "      <th>How Would I Know</th>\n",
       "      <td>0.5380</td>\n",
       "      <td>['Kygo', 'Oh Wonder']</td>\n",
       "      <td>0.514</td>\n",
       "      <td>180700</td>\n",
       "      <td>0.5390</td>\n",
       "      <td>0</td>\n",
       "      <td>52eycxprLhK3lPcRLbQiVk</td>\n",
       "      <td>0.002330</td>\n",
       "      <td>7</td>\n",
       "      <td>0.1080</td>\n",
       "      <td>-9.332</td>\n",
       "      <td>1</td>\n",
       "      <td>70</td>\n",
       "      <td>2020-05-29</td>\n",
       "      <td>0.1050</td>\n",
       "      <td>123.700</td>\n",
       "      <td>0.1530</td>\n",
       "      <td>2020</td>\n",
       "    </tr>\n",
       "    <tr>\n",
       "      <th>I Found You</th>\n",
       "      <td>0.0714</td>\n",
       "      <td>['Cash Cash', 'Andy Grammer']</td>\n",
       "      <td>0.646</td>\n",
       "      <td>167308</td>\n",
       "      <td>0.7610</td>\n",
       "      <td>0</td>\n",
       "      <td>3wYOGJYD31sLRmBgCvWxa4</td>\n",
       "      <td>0.000000</td>\n",
       "      <td>1</td>\n",
       "      <td>0.2220</td>\n",
       "      <td>-2.557</td>\n",
       "      <td>1</td>\n",
       "      <td>70</td>\n",
       "      <td>2020-02-28</td>\n",
       "      <td>0.0385</td>\n",
       "      <td>129.916</td>\n",
       "      <td>0.4720</td>\n",
       "      <td>2020</td>\n",
       "    </tr>\n",
       "    <tr>\n",
       "      <th>More Hearts Than Mine</th>\n",
       "      <td>0.1090</td>\n",
       "      <td>['Ingrid Andress']</td>\n",
       "      <td>0.512</td>\n",
       "      <td>214787</td>\n",
       "      <td>0.4280</td>\n",
       "      <td>0</td>\n",
       "      <td>60RFlt48hm0l4Fu0JoccOl</td>\n",
       "      <td>0.000000</td>\n",
       "      <td>0</td>\n",
       "      <td>0.1050</td>\n",
       "      <td>-7.387</td>\n",
       "      <td>1</td>\n",
       "      <td>65</td>\n",
       "      <td>2020-03-27</td>\n",
       "      <td>0.0271</td>\n",
       "      <td>80.588</td>\n",
       "      <td>0.3660</td>\n",
       "      <td>2020</td>\n",
       "    </tr>\n",
       "  </tbody>\n",
       "</table>\n",
       "<p>169909 rows × 18 columns</p>\n",
       "</div>"
      ],
      "text/plain": [
       "                                               acousticness  \\\n",
       "name                                                          \n",
       "Singende Bataillone 1. Teil                          0.9950   \n",
       "Fantasiestücke, Op. 111: Più tosto lento             0.9940   \n",
       "Chapter 1.18 - Zamek kaniowski                       0.6040   \n",
       "Bebamos Juntos - Instrumental (Remasterizado)        0.9950   \n",
       "Polonaise-Fantaisie in A-Flat Major, Op. 61          0.9900   \n",
       "...                                                     ...   \n",
       "Skechers (feat. Tyga) - Remix                        0.1730   \n",
       "Sweeter (feat. Terrace Martin)                       0.0167   \n",
       "How Would I Know                                     0.5380   \n",
       "I Found You                                          0.0714   \n",
       "More Hearts Than Mine                                0.1090   \n",
       "\n",
       "                                                                                artists  \\\n",
       "name                                                                                      \n",
       "Singende Bataillone 1. Teil                                         ['Carl Woitschach']   \n",
       "Fantasiestücke, Op. 111: Più tosto lento       ['Robert Schumann', 'Vladimir Horowitz']   \n",
       "Chapter 1.18 - Zamek kaniowski                                  ['Seweryn Goszczyński']   \n",
       "Bebamos Juntos - Instrumental (Remasterizado)                      ['Francisco Canaro']   \n",
       "Polonaise-Fantaisie in A-Flat Major, Op. 61    ['Frédéric Chopin', 'Vladimir Horowitz']   \n",
       "...                                                                                 ...   \n",
       "Skechers (feat. Tyga) - Remix                                    ['DripReport', 'Tyga']   \n",
       "Sweeter (feat. Terrace Martin)                       ['Leon Bridges', 'Terrace Martin']   \n",
       "How Would I Know                                                  ['Kygo', 'Oh Wonder']   \n",
       "I Found You                                               ['Cash Cash', 'Andy Grammer']   \n",
       "More Hearts Than Mine                                                ['Ingrid Andress']   \n",
       "\n",
       "                                               danceability  duration_ms  \\\n",
       "name                                                                       \n",
       "Singende Bataillone 1. Teil                           0.708       158648   \n",
       "Fantasiestücke, Op. 111: Più tosto lento              0.379       282133   \n",
       "Chapter 1.18 - Zamek kaniowski                        0.749       104300   \n",
       "Bebamos Juntos - Instrumental (Remasterizado)         0.781       180760   \n",
       "Polonaise-Fantaisie in A-Flat Major, Op. 61           0.210       687733   \n",
       "...                                                     ...          ...   \n",
       "Skechers (feat. Tyga) - Remix                         0.875       163800   \n",
       "Sweeter (feat. Terrace Martin)                        0.719       167468   \n",
       "How Would I Know                                      0.514       180700   \n",
       "I Found You                                           0.646       167308   \n",
       "More Hearts Than Mine                                 0.512       214787   \n",
       "\n",
       "                                               energy  explicit  \\\n",
       "name                                                              \n",
       "Singende Bataillone 1. Teil                    0.1950         0   \n",
       "Fantasiestücke, Op. 111: Più tosto lento       0.0135         0   \n",
       "Chapter 1.18 - Zamek kaniowski                 0.2200         0   \n",
       "Bebamos Juntos - Instrumental (Remasterizado)  0.1300         0   \n",
       "Polonaise-Fantaisie in A-Flat Major, Op. 61    0.2040         0   \n",
       "...                                               ...       ...   \n",
       "Skechers (feat. Tyga) - Remix                  0.4430         1   \n",
       "Sweeter (feat. Terrace Martin)                 0.3850         0   \n",
       "How Would I Know                               0.5390         0   \n",
       "I Found You                                    0.7610         0   \n",
       "More Hearts Than Mine                          0.4280         0   \n",
       "\n",
       "                                                                   id  \\\n",
       "name                                                                    \n",
       "Singende Bataillone 1. Teil                    6KbQ3uYMLKb5jDxLF7wYDD   \n",
       "Fantasiestücke, Op. 111: Più tosto lento       6KuQTIu1KoTTkLXKrwlLPV   \n",
       "Chapter 1.18 - Zamek kaniowski                 6L63VW0PibdM1HDSBoqnoM   \n",
       "Bebamos Juntos - Instrumental (Remasterizado)  6M94FkXd15sOAOQYRnWPN8   \n",
       "Polonaise-Fantaisie in A-Flat Major, Op. 61    6N6tiFZ9vLTSOIxkj8qKrd   \n",
       "...                                                               ...   \n",
       "Skechers (feat. Tyga) - Remix                  4KppkflX7I3vJQk7urOJaS   \n",
       "Sweeter (feat. Terrace Martin)                 1ehhGlTvjtHo2e4xJFB0SZ   \n",
       "How Would I Know                               52eycxprLhK3lPcRLbQiVk   \n",
       "I Found You                                    3wYOGJYD31sLRmBgCvWxa4   \n",
       "More Hearts Than Mine                          60RFlt48hm0l4Fu0JoccOl   \n",
       "\n",
       "                                               instrumentalness  key  \\\n",
       "name                                                                   \n",
       "Singende Bataillone 1. Teil                            0.563000   10   \n",
       "Fantasiestücke, Op. 111: Più tosto lento               0.901000    8   \n",
       "Chapter 1.18 - Zamek kaniowski                         0.000000    5   \n",
       "Bebamos Juntos - Instrumental (Remasterizado)          0.887000    1   \n",
       "Polonaise-Fantaisie in A-Flat Major, Op. 61            0.908000   11   \n",
       "...                                                         ...  ...   \n",
       "Skechers (feat. Tyga) - Remix                          0.000032    1   \n",
       "Sweeter (feat. Terrace Martin)                         0.031300    8   \n",
       "How Would I Know                                       0.002330    7   \n",
       "I Found You                                            0.000000    1   \n",
       "More Hearts Than Mine                                  0.000000    0   \n",
       "\n",
       "                                               liveness  loudness  mode  \\\n",
       "name                                                                      \n",
       "Singende Bataillone 1. Teil                      0.1510   -12.428     1   \n",
       "Fantasiestücke, Op. 111: Più tosto lento         0.0763   -28.454     1   \n",
       "Chapter 1.18 - Zamek kaniowski                   0.1190   -19.924     0   \n",
       "Bebamos Juntos - Instrumental (Remasterizado)    0.1110   -14.734     0   \n",
       "Polonaise-Fantaisie in A-Flat Major, Op. 61      0.0980   -16.829     1   \n",
       "...                                                 ...       ...   ...   \n",
       "Skechers (feat. Tyga) - Remix                    0.0891    -7.461     1   \n",
       "Sweeter (feat. Terrace Martin)                   0.1110   -10.907     1   \n",
       "How Would I Know                                 0.1080    -9.332     1   \n",
       "I Found You                                      0.2220    -2.557     1   \n",
       "More Hearts Than Mine                            0.1050    -7.387     1   \n",
       "\n",
       "                                               popularity release_date  \\\n",
       "name                                                                     \n",
       "Singende Bataillone 1. Teil                             0         1928   \n",
       "Fantasiestücke, Op. 111: Più tosto lento                0         1928   \n",
       "Chapter 1.18 - Zamek kaniowski                          0         1928   \n",
       "Bebamos Juntos - Instrumental (Remasterizado)           0   1928-09-25   \n",
       "Polonaise-Fantaisie in A-Flat Major, Op. 61             1         1928   \n",
       "...                                                   ...          ...   \n",
       "Skechers (feat. Tyga) - Remix                          75   2020-05-15   \n",
       "Sweeter (feat. Terrace Martin)                         64   2020-06-08   \n",
       "How Would I Know                                       70   2020-05-29   \n",
       "I Found You                                            70   2020-02-28   \n",
       "More Hearts Than Mine                                  65   2020-03-27   \n",
       "\n",
       "                                               speechiness    tempo  valence  \\\n",
       "name                                                                           \n",
       "Singende Bataillone 1. Teil                         0.0506  118.469   0.7790   \n",
       "Fantasiestücke, Op. 111: Più tosto lento            0.0462   83.972   0.0767   \n",
       "Chapter 1.18 - Zamek kaniowski                      0.9290  107.177   0.8800   \n",
       "Bebamos Juntos - Instrumental (Remasterizado)       0.0926  108.003   0.7200   \n",
       "Polonaise-Fantaisie in A-Flat Major, Op. 61         0.0424   62.149   0.0693   \n",
       "...                                                    ...      ...      ...   \n",
       "Skechers (feat. Tyga) - Remix                       0.1430  100.012   0.3060   \n",
       "Sweeter (feat. Terrace Martin)                      0.0403  128.000   0.2700   \n",
       "How Would I Know                                    0.1050  123.700   0.1530   \n",
       "I Found You                                         0.0385  129.916   0.4720   \n",
       "More Hearts Than Mine                               0.0271   80.588   0.3660   \n",
       "\n",
       "                                               year  \n",
       "name                                                 \n",
       "Singende Bataillone 1. Teil                    1928  \n",
       "Fantasiestücke, Op. 111: Più tosto lento       1928  \n",
       "Chapter 1.18 - Zamek kaniowski                 1928  \n",
       "Bebamos Juntos - Instrumental (Remasterizado)  1928  \n",
       "Polonaise-Fantaisie in A-Flat Major, Op. 61    1928  \n",
       "...                                             ...  \n",
       "Skechers (feat. Tyga) - Remix                  2020  \n",
       "Sweeter (feat. Terrace Martin)                 2020  \n",
       "How Would I Know                               2020  \n",
       "I Found You                                    2020  \n",
       "More Hearts Than Mine                          2020  \n",
       "\n",
       "[169909 rows x 18 columns]"
      ]
     },
     "execution_count": 10,
     "metadata": {},
     "output_type": "execute_result"
    }
   ],
   "source": [
    "df.set_index('name')\n"
   ]
  },
  {
   "cell_type": "code",
   "execution_count": 12,
   "metadata": {},
   "outputs": [
    {
     "data": {
      "text/html": [
       "<div>\n",
       "<style scoped>\n",
       "    .dataframe tbody tr th:only-of-type {\n",
       "        vertical-align: middle;\n",
       "    }\n",
       "\n",
       "    .dataframe tbody tr th {\n",
       "        vertical-align: top;\n",
       "    }\n",
       "\n",
       "    .dataframe thead th {\n",
       "        text-align: right;\n",
       "    }\n",
       "</style>\n",
       "<table border=\"1\" class=\"dataframe\">\n",
       "  <thead>\n",
       "    <tr style=\"text-align: right;\">\n",
       "      <th></th>\n",
       "      <th>acousticness</th>\n",
       "      <th>artists</th>\n",
       "      <th>danceability</th>\n",
       "      <th>duration_ms</th>\n",
       "      <th>energy</th>\n",
       "      <th>explicit</th>\n",
       "      <th>id</th>\n",
       "      <th>instrumentalness</th>\n",
       "      <th>key</th>\n",
       "      <th>liveness</th>\n",
       "      <th>loudness</th>\n",
       "      <th>mode</th>\n",
       "      <th>name</th>\n",
       "      <th>popularity</th>\n",
       "      <th>release_date</th>\n",
       "      <th>speechiness</th>\n",
       "      <th>tempo</th>\n",
       "      <th>valence</th>\n",
       "      <th>year</th>\n",
       "    </tr>\n",
       "  </thead>\n",
       "  <tbody>\n",
       "    <tr>\n",
       "      <th>0</th>\n",
       "      <td>0.9950</td>\n",
       "      <td>['Carl Woitschach']</td>\n",
       "      <td>0.708</td>\n",
       "      <td>158648</td>\n",
       "      <td>0.1950</td>\n",
       "      <td>0</td>\n",
       "      <td>6KbQ3uYMLKb5jDxLF7wYDD</td>\n",
       "      <td>0.563000</td>\n",
       "      <td>10</td>\n",
       "      <td>0.1510</td>\n",
       "      <td>-12.428</td>\n",
       "      <td>1</td>\n",
       "      <td>Singende Bataillone 1. Teil</td>\n",
       "      <td>0</td>\n",
       "      <td>1928</td>\n",
       "      <td>0.0506</td>\n",
       "      <td>118.469</td>\n",
       "      <td>0.7790</td>\n",
       "      <td>1928</td>\n",
       "    </tr>\n",
       "    <tr>\n",
       "      <th>1</th>\n",
       "      <td>0.9940</td>\n",
       "      <td>['Robert Schumann', 'Vladimir Horowitz']</td>\n",
       "      <td>0.379</td>\n",
       "      <td>282133</td>\n",
       "      <td>0.0135</td>\n",
       "      <td>0</td>\n",
       "      <td>6KuQTIu1KoTTkLXKrwlLPV</td>\n",
       "      <td>0.901000</td>\n",
       "      <td>8</td>\n",
       "      <td>0.0763</td>\n",
       "      <td>-28.454</td>\n",
       "      <td>1</td>\n",
       "      <td>Fantasiestücke, Op. 111: Più tosto lento</td>\n",
       "      <td>0</td>\n",
       "      <td>1928</td>\n",
       "      <td>0.0462</td>\n",
       "      <td>83.972</td>\n",
       "      <td>0.0767</td>\n",
       "      <td>1928</td>\n",
       "    </tr>\n",
       "    <tr>\n",
       "      <th>2</th>\n",
       "      <td>0.6040</td>\n",
       "      <td>['Seweryn Goszczyński']</td>\n",
       "      <td>0.749</td>\n",
       "      <td>104300</td>\n",
       "      <td>0.2200</td>\n",
       "      <td>0</td>\n",
       "      <td>6L63VW0PibdM1HDSBoqnoM</td>\n",
       "      <td>0.000000</td>\n",
       "      <td>5</td>\n",
       "      <td>0.1190</td>\n",
       "      <td>-19.924</td>\n",
       "      <td>0</td>\n",
       "      <td>Chapter 1.18 - Zamek kaniowski</td>\n",
       "      <td>0</td>\n",
       "      <td>1928</td>\n",
       "      <td>0.9290</td>\n",
       "      <td>107.177</td>\n",
       "      <td>0.8800</td>\n",
       "      <td>1928</td>\n",
       "    </tr>\n",
       "    <tr>\n",
       "      <th>3</th>\n",
       "      <td>0.9950</td>\n",
       "      <td>['Francisco Canaro']</td>\n",
       "      <td>0.781</td>\n",
       "      <td>180760</td>\n",
       "      <td>0.1300</td>\n",
       "      <td>0</td>\n",
       "      <td>6M94FkXd15sOAOQYRnWPN8</td>\n",
       "      <td>0.887000</td>\n",
       "      <td>1</td>\n",
       "      <td>0.1110</td>\n",
       "      <td>-14.734</td>\n",
       "      <td>0</td>\n",
       "      <td>Bebamos Juntos - Instrumental (Remasterizado)</td>\n",
       "      <td>0</td>\n",
       "      <td>1928-09-25</td>\n",
       "      <td>0.0926</td>\n",
       "      <td>108.003</td>\n",
       "      <td>0.7200</td>\n",
       "      <td>1928</td>\n",
       "    </tr>\n",
       "    <tr>\n",
       "      <th>4</th>\n",
       "      <td>0.9900</td>\n",
       "      <td>['Frédéric Chopin', 'Vladimir Horowitz']</td>\n",
       "      <td>0.210</td>\n",
       "      <td>687733</td>\n",
       "      <td>0.2040</td>\n",
       "      <td>0</td>\n",
       "      <td>6N6tiFZ9vLTSOIxkj8qKrd</td>\n",
       "      <td>0.908000</td>\n",
       "      <td>11</td>\n",
       "      <td>0.0980</td>\n",
       "      <td>-16.829</td>\n",
       "      <td>1</td>\n",
       "      <td>Polonaise-Fantaisie in A-Flat Major, Op. 61</td>\n",
       "      <td>1</td>\n",
       "      <td>1928</td>\n",
       "      <td>0.0424</td>\n",
       "      <td>62.149</td>\n",
       "      <td>0.0693</td>\n",
       "      <td>1928</td>\n",
       "    </tr>\n",
       "    <tr>\n",
       "      <th>...</th>\n",
       "      <td>...</td>\n",
       "      <td>...</td>\n",
       "      <td>...</td>\n",
       "      <td>...</td>\n",
       "      <td>...</td>\n",
       "      <td>...</td>\n",
       "      <td>...</td>\n",
       "      <td>...</td>\n",
       "      <td>...</td>\n",
       "      <td>...</td>\n",
       "      <td>...</td>\n",
       "      <td>...</td>\n",
       "      <td>...</td>\n",
       "      <td>...</td>\n",
       "      <td>...</td>\n",
       "      <td>...</td>\n",
       "      <td>...</td>\n",
       "      <td>...</td>\n",
       "      <td>...</td>\n",
       "    </tr>\n",
       "    <tr>\n",
       "      <th>169904</th>\n",
       "      <td>0.1730</td>\n",
       "      <td>['DripReport', 'Tyga']</td>\n",
       "      <td>0.875</td>\n",
       "      <td>163800</td>\n",
       "      <td>0.4430</td>\n",
       "      <td>1</td>\n",
       "      <td>4KppkflX7I3vJQk7urOJaS</td>\n",
       "      <td>0.000032</td>\n",
       "      <td>1</td>\n",
       "      <td>0.0891</td>\n",
       "      <td>-7.461</td>\n",
       "      <td>1</td>\n",
       "      <td>Skechers (feat. Tyga) - Remix</td>\n",
       "      <td>75</td>\n",
       "      <td>2020-05-15</td>\n",
       "      <td>0.1430</td>\n",
       "      <td>100.012</td>\n",
       "      <td>0.3060</td>\n",
       "      <td>2020</td>\n",
       "    </tr>\n",
       "    <tr>\n",
       "      <th>169905</th>\n",
       "      <td>0.0167</td>\n",
       "      <td>['Leon Bridges', 'Terrace Martin']</td>\n",
       "      <td>0.719</td>\n",
       "      <td>167468</td>\n",
       "      <td>0.3850</td>\n",
       "      <td>0</td>\n",
       "      <td>1ehhGlTvjtHo2e4xJFB0SZ</td>\n",
       "      <td>0.031300</td>\n",
       "      <td>8</td>\n",
       "      <td>0.1110</td>\n",
       "      <td>-10.907</td>\n",
       "      <td>1</td>\n",
       "      <td>Sweeter (feat. Terrace Martin)</td>\n",
       "      <td>64</td>\n",
       "      <td>2020-06-08</td>\n",
       "      <td>0.0403</td>\n",
       "      <td>128.000</td>\n",
       "      <td>0.2700</td>\n",
       "      <td>2020</td>\n",
       "    </tr>\n",
       "    <tr>\n",
       "      <th>169906</th>\n",
       "      <td>0.5380</td>\n",
       "      <td>['Kygo', 'Oh Wonder']</td>\n",
       "      <td>0.514</td>\n",
       "      <td>180700</td>\n",
       "      <td>0.5390</td>\n",
       "      <td>0</td>\n",
       "      <td>52eycxprLhK3lPcRLbQiVk</td>\n",
       "      <td>0.002330</td>\n",
       "      <td>7</td>\n",
       "      <td>0.1080</td>\n",
       "      <td>-9.332</td>\n",
       "      <td>1</td>\n",
       "      <td>How Would I Know</td>\n",
       "      <td>70</td>\n",
       "      <td>2020-05-29</td>\n",
       "      <td>0.1050</td>\n",
       "      <td>123.700</td>\n",
       "      <td>0.1530</td>\n",
       "      <td>2020</td>\n",
       "    </tr>\n",
       "    <tr>\n",
       "      <th>169907</th>\n",
       "      <td>0.0714</td>\n",
       "      <td>['Cash Cash', 'Andy Grammer']</td>\n",
       "      <td>0.646</td>\n",
       "      <td>167308</td>\n",
       "      <td>0.7610</td>\n",
       "      <td>0</td>\n",
       "      <td>3wYOGJYD31sLRmBgCvWxa4</td>\n",
       "      <td>0.000000</td>\n",
       "      <td>1</td>\n",
       "      <td>0.2220</td>\n",
       "      <td>-2.557</td>\n",
       "      <td>1</td>\n",
       "      <td>I Found You</td>\n",
       "      <td>70</td>\n",
       "      <td>2020-02-28</td>\n",
       "      <td>0.0385</td>\n",
       "      <td>129.916</td>\n",
       "      <td>0.4720</td>\n",
       "      <td>2020</td>\n",
       "    </tr>\n",
       "    <tr>\n",
       "      <th>169908</th>\n",
       "      <td>0.1090</td>\n",
       "      <td>['Ingrid Andress']</td>\n",
       "      <td>0.512</td>\n",
       "      <td>214787</td>\n",
       "      <td>0.4280</td>\n",
       "      <td>0</td>\n",
       "      <td>60RFlt48hm0l4Fu0JoccOl</td>\n",
       "      <td>0.000000</td>\n",
       "      <td>0</td>\n",
       "      <td>0.1050</td>\n",
       "      <td>-7.387</td>\n",
       "      <td>1</td>\n",
       "      <td>More Hearts Than Mine</td>\n",
       "      <td>65</td>\n",
       "      <td>2020-03-27</td>\n",
       "      <td>0.0271</td>\n",
       "      <td>80.588</td>\n",
       "      <td>0.3660</td>\n",
       "      <td>2020</td>\n",
       "    </tr>\n",
       "  </tbody>\n",
       "</table>\n",
       "<p>169909 rows × 19 columns</p>\n",
       "</div>"
      ],
      "text/plain": [
       "        acousticness                                   artists  danceability  \\\n",
       "0             0.9950                       ['Carl Woitschach']         0.708   \n",
       "1             0.9940  ['Robert Schumann', 'Vladimir Horowitz']         0.379   \n",
       "2             0.6040                   ['Seweryn Goszczyński']         0.749   \n",
       "3             0.9950                      ['Francisco Canaro']         0.781   \n",
       "4             0.9900  ['Frédéric Chopin', 'Vladimir Horowitz']         0.210   \n",
       "...              ...                                       ...           ...   \n",
       "169904        0.1730                    ['DripReport', 'Tyga']         0.875   \n",
       "169905        0.0167        ['Leon Bridges', 'Terrace Martin']         0.719   \n",
       "169906        0.5380                     ['Kygo', 'Oh Wonder']         0.514   \n",
       "169907        0.0714             ['Cash Cash', 'Andy Grammer']         0.646   \n",
       "169908        0.1090                        ['Ingrid Andress']         0.512   \n",
       "\n",
       "        duration_ms  energy  explicit                      id  \\\n",
       "0            158648  0.1950         0  6KbQ3uYMLKb5jDxLF7wYDD   \n",
       "1            282133  0.0135         0  6KuQTIu1KoTTkLXKrwlLPV   \n",
       "2            104300  0.2200         0  6L63VW0PibdM1HDSBoqnoM   \n",
       "3            180760  0.1300         0  6M94FkXd15sOAOQYRnWPN8   \n",
       "4            687733  0.2040         0  6N6tiFZ9vLTSOIxkj8qKrd   \n",
       "...             ...     ...       ...                     ...   \n",
       "169904       163800  0.4430         1  4KppkflX7I3vJQk7urOJaS   \n",
       "169905       167468  0.3850         0  1ehhGlTvjtHo2e4xJFB0SZ   \n",
       "169906       180700  0.5390         0  52eycxprLhK3lPcRLbQiVk   \n",
       "169907       167308  0.7610         0  3wYOGJYD31sLRmBgCvWxa4   \n",
       "169908       214787  0.4280         0  60RFlt48hm0l4Fu0JoccOl   \n",
       "\n",
       "        instrumentalness  key  liveness  loudness  mode  \\\n",
       "0               0.563000   10    0.1510   -12.428     1   \n",
       "1               0.901000    8    0.0763   -28.454     1   \n",
       "2               0.000000    5    0.1190   -19.924     0   \n",
       "3               0.887000    1    0.1110   -14.734     0   \n",
       "4               0.908000   11    0.0980   -16.829     1   \n",
       "...                  ...  ...       ...       ...   ...   \n",
       "169904          0.000032    1    0.0891    -7.461     1   \n",
       "169905          0.031300    8    0.1110   -10.907     1   \n",
       "169906          0.002330    7    0.1080    -9.332     1   \n",
       "169907          0.000000    1    0.2220    -2.557     1   \n",
       "169908          0.000000    0    0.1050    -7.387     1   \n",
       "\n",
       "                                                 name  popularity  \\\n",
       "0                         Singende Bataillone 1. Teil           0   \n",
       "1            Fantasiestücke, Op. 111: Più tosto lento           0   \n",
       "2                      Chapter 1.18 - Zamek kaniowski           0   \n",
       "3       Bebamos Juntos - Instrumental (Remasterizado)           0   \n",
       "4         Polonaise-Fantaisie in A-Flat Major, Op. 61           1   \n",
       "...                                               ...         ...   \n",
       "169904                  Skechers (feat. Tyga) - Remix          75   \n",
       "169905                 Sweeter (feat. Terrace Martin)          64   \n",
       "169906                               How Would I Know          70   \n",
       "169907                                    I Found You          70   \n",
       "169908                          More Hearts Than Mine          65   \n",
       "\n",
       "       release_date  speechiness    tempo  valence  year  \n",
       "0              1928       0.0506  118.469   0.7790  1928  \n",
       "1              1928       0.0462   83.972   0.0767  1928  \n",
       "2              1928       0.9290  107.177   0.8800  1928  \n",
       "3        1928-09-25       0.0926  108.003   0.7200  1928  \n",
       "4              1928       0.0424   62.149   0.0693  1928  \n",
       "...             ...          ...      ...      ...   ...  \n",
       "169904   2020-05-15       0.1430  100.012   0.3060  2020  \n",
       "169905   2020-06-08       0.0403  128.000   0.2700  2020  \n",
       "169906   2020-05-29       0.1050  123.700   0.1530  2020  \n",
       "169907   2020-02-28       0.0385  129.916   0.4720  2020  \n",
       "169908   2020-03-27       0.0271   80.588   0.3660  2020  \n",
       "\n",
       "[169909 rows x 19 columns]"
      ]
     },
     "execution_count": 12,
     "metadata": {},
     "output_type": "execute_result"
    }
   ],
   "source": [
    "\n",
    "df\n"
   ]
  },
  {
   "cell_type": "markdown",
   "metadata": {},
   "source": [
    "<br> Supprimer la colonne id faisant référence aux ID des pistes dans Spotify API. Vérifier que la colonne a été supprimée en listant les colonnes."
   ]
  },
  {
   "cell_type": "code",
   "execution_count": null,
   "metadata": {},
   "outputs": [],
   "source": []
  },
  {
   "cell_type": "code",
   "execution_count": null,
   "metadata": {},
   "outputs": [],
   "source": []
  },
  {
   "cell_type": "markdown",
   "metadata": {},
   "source": [
    "<br> Supprimer la première ligne de notre DataFrame. "
   ]
  },
  {
   "cell_type": "code",
   "execution_count": null,
   "metadata": {},
   "outputs": [],
   "source": []
  },
  {
   "cell_type": "markdown",
   "metadata": {},
   "source": [
    "<br></br>\n",
    "Maintenant que nous avons une idée sur les données de notre Dataset on peut **penser à des questions à poser. Lister un maximum de questions.** On peut revenir enrichir cette liste au fur et à mesure qu'on explore nos données.\n",
    "- Quelle est la popularité des pistes selon les années?\n",
    "- Quels sont les artistes dont les chansons sont unilatéralement bien reçues?\n",
    "- Quels sont les genres les plus populaires?\n",
    "- Y-a-t-il des correlations entre les caractéristiques d'une piste et sa popularité?\n",
    "- ..."
   ]
  },
  {
   "cell_type": "markdown",
   "metadata": {},
   "source": [
    "<br></br>\n",
    "## B. Traiter vos données"
   ]
  },
  {
   "cell_type": "markdown",
   "metadata": {},
   "source": [
    "Pandas fournit une panoplie de fonctions permettant de selectionner, filtrer, ordonner... vos données. On va les utiliser pour mieux comprendre nos données."
   ]
  },
  {
   "cell_type": "markdown",
   "metadata": {},
   "source": [
    "### 1. Selectionner les données:"
   ]
  },
  {
   "cell_type": "markdown",
   "metadata": {},
   "source": [
    "1. Afficher les pistes publiée l'année de votre naissance."
   ]
  },
  {
   "cell_type": "code",
   "execution_count": null,
   "metadata": {},
   "outputs": [],
   "source": []
  },
  {
   "cell_type": "markdown",
   "metadata": {},
   "source": [
    "2. Stocker le résultat dans une nouvelle Dataframe. Combien de pistes y'en a-t-il?"
   ]
  },
  {
   "cell_type": "code",
   "execution_count": null,
   "metadata": {},
   "outputs": [],
   "source": []
  },
  {
   "cell_type": "code",
   "execution_count": null,
   "metadata": {},
   "outputs": [],
   "source": []
  },
  {
   "cell_type": "markdown",
   "metadata": {},
   "source": [
    "3. Afficher la colonne 'year' dans la nouvelle Dataframe et vérifier que seule l'année de votre naissance est incluse."
   ]
  },
  {
   "cell_type": "code",
   "execution_count": null,
   "metadata": {},
   "outputs": [],
   "source": []
  },
  {
   "cell_type": "code",
   "execution_count": null,
   "metadata": {},
   "outputs": [],
   "source": []
  },
  {
   "cell_type": "markdown",
   "metadata": {},
   "source": [
    "4. N'afficher que les informations relatives à l'artiste, le nom de la piste, et sa popularité."
   ]
  },
  {
   "cell_type": "code",
   "execution_count": null,
   "metadata": {},
   "outputs": [],
   "source": []
  },
  {
   "cell_type": "code",
   "execution_count": null,
   "metadata": {},
   "outputs": [],
   "source": []
  },
  {
   "cell_type": "markdown",
   "metadata": {},
   "source": [
    "<br>"
   ]
  },
  {
   "cell_type": "markdown",
   "metadata": {},
   "source": [
    "### 2. Filter les données"
   ]
  },
  {
   "cell_type": "markdown",
   "metadata": {},
   "source": [
    "Revenir à la Dataframe d'origine.\n",
    "\n",
    "1. N'afficher que les chansons les plus populaires. Vous pouvez choisir un seuil de popularité en fonction de vos données. Voir rapidement la distribution de la popularité en utilisant la fonction hist() de Pandas."
   ]
  },
  {
   "cell_type": "code",
   "execution_count": null,
   "metadata": {},
   "outputs": [],
   "source": []
  },
  {
   "cell_type": "code",
   "execution_count": null,
   "metadata": {},
   "outputs": [],
   "source": []
  },
  {
   "cell_type": "code",
   "execution_count": null,
   "metadata": {},
   "outputs": [],
   "source": []
  },
  {
   "cell_type": "markdown",
   "metadata": {},
   "source": [
    "2. Afficher les chansons dont l'energie est proche de 1 et la clé est 6.\n"
   ]
  },
  {
   "cell_type": "code",
   "execution_count": null,
   "metadata": {},
   "outputs": [],
   "source": []
  },
  {
   "cell_type": "markdown",
   "metadata": {},
   "source": [
    "3. N'affichez que les pistes qui n'ont pas de paroles explicites et qui ont une grande popularité (dont le seuil est à vous de définir)."
   ]
  },
  {
   "cell_type": "code",
   "execution_count": null,
   "metadata": {},
   "outputs": [],
   "source": []
  },
  {
   "cell_type": "markdown",
   "metadata": {},
   "source": [
    "4. Afficher les pistes dont la popularité est >95 ou la date de publication est antérieure au 01/Juin de cette année. "
   ]
  },
  {
   "cell_type": "code",
   "execution_count": null,
   "metadata": {},
   "outputs": [],
   "source": []
  },
  {
   "cell_type": "markdown",
   "metadata": {},
   "source": [
    "5. Afficher les pistes de votre artiste préféré. Vous pouvez utiliser les fonction str. pour chercher les lignes qui contiennent un bout du nom, mettre le texte en miniscule.. si vous n'êtes pas sûr(e)s comment le nom est stocké dans la dataset.\n",
    "\n",
    "N.B. Il est possible d'avoir recours à du fuzzy matching en utilisant regex ou des libraries spécialisée."
   ]
  },
  {
   "cell_type": "code",
   "execution_count": null,
   "metadata": {},
   "outputs": [],
   "source": []
  },
  {
   "cell_type": "markdown",
   "metadata": {},
   "source": [
    "6. Afficher les pistes dont la clé appartient à la liste: [0, 3, 5, 8, 10]"
   ]
  },
  {
   "cell_type": "code",
   "execution_count": null,
   "metadata": {},
   "outputs": [],
   "source": []
  },
  {
   "cell_type": "markdown",
   "metadata": {},
   "source": [
    "7. Afficher les pistes dont la clé n'appartient pas à cette liste"
   ]
  },
  {
   "cell_type": "code",
   "execution_count": null,
   "metadata": {},
   "outputs": [],
   "source": []
  },
  {
   "cell_type": "markdown",
   "metadata": {},
   "source": [
    "8. Filtrer par type de colonne et n'inclure que les colonnes numériques."
   ]
  },
  {
   "cell_type": "code",
   "execution_count": null,
   "metadata": {},
   "outputs": [],
   "source": []
  },
  {
   "cell_type": "markdown",
   "metadata": {},
   "source": [
    "9. Créer votre propre question et le filtre y correspondant"
   ]
  },
  {
   "cell_type": "code",
   "execution_count": null,
   "metadata": {},
   "outputs": [],
   "source": []
  },
  {
   "cell_type": "markdown",
   "metadata": {},
   "source": [
    "<br>"
   ]
  },
  {
   "cell_type": "markdown",
   "metadata": {},
   "source": [
    "### 3. Ordonner les données"
   ]
  },
  {
   "cell_type": "markdown",
   "metadata": {},
   "source": [
    "1. Afficher les pistes selon leur année de publication croissante"
   ]
  },
  {
   "cell_type": "code",
   "execution_count": null,
   "metadata": {},
   "outputs": [],
   "source": []
  },
  {
   "cell_type": "markdown",
   "metadata": {},
   "source": [
    "2. Afficher les 10 pistes les plus récentes sur l'ensemble des pistes"
   ]
  },
  {
   "cell_type": "code",
   "execution_count": null,
   "metadata": {},
   "outputs": [],
   "source": []
  },
  {
   "cell_type": "markdown",
   "metadata": {},
   "source": [
    "3. Afficher la piste la plus populaire de votre artiste préféré?  "
   ]
  },
  {
   "cell_type": "code",
   "execution_count": null,
   "metadata": {},
   "outputs": [],
   "source": []
  },
  {
   "cell_type": "markdown",
   "metadata": {},
   "source": [
    "4. Est-ce que les pistes les plus populaires sont toujours les plus récentes ? "
   ]
  },
  {
   "cell_type": "code",
   "execution_count": null,
   "metadata": {},
   "outputs": [],
   "source": []
  },
  {
   "cell_type": "markdown",
   "metadata": {},
   "source": [
    "<br>"
   ]
  },
  {
   "cell_type": "markdown",
   "metadata": {},
   "source": [
    "### 4. Traiter les données manquantes et les données dupliquées"
   ]
  },
  {
   "cell_type": "markdown",
   "metadata": {},
   "source": [
    "L'un des problèmes les plus récurrents dans les projets data science est la qualité des données à commencer par leur complétude. Il faut toujours se poser la question: **Est-ce qu'il y a des données manquantes? et si c'est le cas comment les gérer?**\n",
    "\n",
    "Lire le fichier data_withmissingdata.csv dans une Dataframe."
   ]
  },
  {
   "cell_type": "code",
   "execution_count": null,
   "metadata": {},
   "outputs": [],
   "source": []
  },
  {
   "cell_type": "markdown",
   "metadata": {},
   "source": [
    "<br> Il faut d'abord identifier les données manquantes. Quelle(s) colonne(s) est/sont concernées?  "
   ]
  },
  {
   "cell_type": "code",
   "execution_count": null,
   "metadata": {},
   "outputs": [],
   "source": []
  },
  {
   "cell_type": "markdown",
   "metadata": {},
   "source": [
    "<br> Selectionner les lignes où les données sont manquantes. De combien de lignes s'agit-il?"
   ]
  },
  {
   "cell_type": "code",
   "execution_count": null,
   "metadata": {},
   "outputs": [],
   "source": []
  },
  {
   "cell_type": "code",
   "execution_count": null,
   "metadata": {},
   "outputs": [],
   "source": []
  },
  {
   "cell_type": "markdown",
   "metadata": {},
   "source": [
    "<br> Il est très utile de stocker les indices de ces lignes dans une liste qu'on pourra utiliser pour les selections et les vérifications. Afficher la liste des indexes de ces lignes."
   ]
  },
  {
   "cell_type": "code",
   "execution_count": null,
   "metadata": {},
   "outputs": [],
   "source": []
  },
  {
   "cell_type": "markdown",
   "metadata": {},
   "source": [
    "<br> On voudrait remplir les données manquantes dans year. Pandas offre plusieurs possiblités de méthodes standards à appliquer pour remplir les données manquantes. Dans notre cas, on voudrait remplir par l'année dans release_date. \n",
    "\n",
    "Il est possible d'extraire l'année d'une date, mais il faut d'abord convertir la colonne release_date en type date, puis remplir les valeurs manquantes de year par les valeurs year de release_date."
   ]
  },
  {
   "cell_type": "code",
   "execution_count": null,
   "metadata": {},
   "outputs": [],
   "source": []
  },
  {
   "cell_type": "code",
   "execution_count": null,
   "metadata": {},
   "outputs": [],
   "source": []
  },
  {
   "cell_type": "code",
   "execution_count": null,
   "metadata": {},
   "outputs": [],
   "source": []
  },
  {
   "cell_type": "markdown",
   "metadata": {},
   "source": [
    "<br> Vérifier à l'aide de la liste des indexes créée que les valeurs year ont été bel est bien remplies."
   ]
  },
  {
   "cell_type": "code",
   "execution_count": null,
   "metadata": {},
   "outputs": [],
   "source": []
  },
  {
   "cell_type": "markdown",
   "metadata": {},
   "source": [
    "<br> Il est notamment possible de supprimer les lignes dont une des valeurs est nulle. Vous pouvez relire les données, supprimer les lignes et réanalyser. "
   ]
  },
  {
   "cell_type": "code",
   "execution_count": null,
   "metadata": {},
   "outputs": [],
   "source": []
  },
  {
   "cell_type": "code",
   "execution_count": null,
   "metadata": {},
   "outputs": [],
   "source": []
  },
  {
   "cell_type": "markdown",
   "metadata": {},
   "source": [
    "<br>"
   ]
  },
  {
   "cell_type": "markdown",
   "metadata": {},
   "source": [
    "#### 2. Traiter les données dupliquées"
   ]
  },
  {
   "cell_type": "markdown",
   "metadata": {},
   "source": [
    "Il faut toujours s'assurer qu'on n'a pas de lignes dupliquées dans notre dataset. Pandas offre une panoplies de méthodes pour traiter ces cas. Selectionner les lignes dupliquées dans votre nouveau dataframe. "
   ]
  },
  {
   "cell_type": "code",
   "execution_count": null,
   "metadata": {},
   "outputs": [],
   "source": []
  },
  {
   "cell_type": "markdown",
   "metadata": {},
   "source": [
    "<br> Supprimer les lignes dupliquées. S'Assurer de ne pas totalement perdre la donnée."
   ]
  },
  {
   "cell_type": "code",
   "execution_count": null,
   "metadata": {},
   "outputs": [],
   "source": []
  },
  {
   "cell_type": "markdown",
   "metadata": {},
   "source": [
    "<br></br>\n",
    "## C. Analyser vos données"
   ]
  },
  {
   "cell_type": "markdown",
   "metadata": {},
   "source": [
    "### 1. Corrélations"
   ]
  },
  {
   "cell_type": "markdown",
   "metadata": {},
   "source": [
    "L'étude des corrélations entre les différentes variables est primordiales pour la compréhension des données mais aussi la modélisation par la suite. Pandas offre une fonction permettant le calcul des corrélations entre les colonnes d'une dataframe. Quelles sont les corrélations dans les données?"
   ]
  },
  {
   "cell_type": "code",
   "execution_count": null,
   "metadata": {},
   "outputs": [],
   "source": []
  },
  {
   "cell_type": "markdown",
   "metadata": {},
   "source": [
    "<br> On a tendance à afficher les corrélations sous forme de heatmap. La manière la plus simple pour créer une heatmap est en utilisant Seaborn, une librairie de visualisation de données. Aller sur https://seaborn.pydata.org/generated/seaborn.heatmap.html et adapter le code pour afficher une heatmap de vos données."
   ]
  },
  {
   "cell_type": "code",
   "execution_count": null,
   "metadata": {},
   "outputs": [],
   "source": []
  },
  {
   "cell_type": "code",
   "execution_count": null,
   "metadata": {},
   "outputs": [],
   "source": []
  },
  {
   "cell_type": "code",
   "execution_count": null,
   "metadata": {},
   "outputs": [],
   "source": []
  },
  {
   "cell_type": "markdown",
   "metadata": {},
   "source": [
    "<br> Qu'est-ce que vous pouvez conclure à partir de ces corrélation? "
   ]
  },
  {
   "cell_type": "markdown",
   "metadata": {},
   "source": []
  },
  {
   "cell_type": "markdown",
   "metadata": {},
   "source": [
    "<br>"
   ]
  },
  {
   "cell_type": "markdown",
   "metadata": {},
   "source": [
    "### 2. Lister vos questions et les réponses à ces questions:"
   ]
  },
  {
   "cell_type": "code",
   "execution_count": null,
   "metadata": {},
   "outputs": [],
   "source": []
  },
  {
   "cell_type": "code",
   "execution_count": null,
   "metadata": {},
   "outputs": [],
   "source": []
  },
  {
   "cell_type": "code",
   "execution_count": null,
   "metadata": {},
   "outputs": [],
   "source": []
  },
  {
   "cell_type": "code",
   "execution_count": null,
   "metadata": {},
   "outputs": [],
   "source": []
  },
  {
   "cell_type": "code",
   "execution_count": null,
   "metadata": {},
   "outputs": [],
   "source": []
  },
  {
   "cell_type": "code",
   "execution_count": null,
   "metadata": {},
   "outputs": [],
   "source": []
  },
  {
   "cell_type": "code",
   "execution_count": null,
   "metadata": {},
   "outputs": [],
   "source": []
  },
  {
   "cell_type": "code",
   "execution_count": null,
   "metadata": {},
   "outputs": [],
   "source": []
  },
  {
   "cell_type": "code",
   "execution_count": null,
   "metadata": {},
   "outputs": [],
   "source": []
  },
  {
   "cell_type": "code",
   "execution_count": null,
   "metadata": {},
   "outputs": [],
   "source": []
  },
  {
   "cell_type": "code",
   "execution_count": null,
   "metadata": {},
   "outputs": [],
   "source": []
  },
  {
   "cell_type": "code",
   "execution_count": null,
   "metadata": {},
   "outputs": [],
   "source": []
  },
  {
   "cell_type": "code",
   "execution_count": null,
   "metadata": {},
   "outputs": [],
   "source": []
  },
  {
   "cell_type": "code",
   "execution_count": null,
   "metadata": {},
   "outputs": [],
   "source": []
  },
  {
   "cell_type": "code",
   "execution_count": null,
   "metadata": {},
   "outputs": [],
   "source": []
  },
  {
   "cell_type": "code",
   "execution_count": null,
   "metadata": {},
   "outputs": [],
   "source": []
  },
  {
   "cell_type": "code",
   "execution_count": null,
   "metadata": {},
   "outputs": [],
   "source": []
  },
  {
   "cell_type": "code",
   "execution_count": null,
   "metadata": {},
   "outputs": [],
   "source": []
  },
  {
   "cell_type": "markdown",
   "metadata": {},
   "source": [
    "<br></br>\n",
    "## D. Analyse avancée"
   ]
  },
  {
   "cell_type": "markdown",
   "metadata": {},
   "source": [
    "Il est possible d'opérer des modifications directement sur une colonne de votre dataframe. Par exemple, on pourrait assigner à la colonne artists le résultat des manipulations str remplaçant les caractères '[' et ']' par ''."
   ]
  },
  {
   "cell_type": "code",
   "execution_count": null,
   "metadata": {},
   "outputs": [],
   "source": []
  },
  {
   "cell_type": "markdown",
   "metadata": {},
   "source": [
    "La fonction **apply** est d'une grande utilité lors de la manipulation des dataframes. Elle permet d'appliquer une fonction (de simple à complexe) selon un axe de la dataframe et évite de boucler manuellement sur les lignes ou les colonnes.  \n",
    "\n",
    "Supposons qu'on veut analyser les duos entre les artistes. Pour ce faire, il faudra d'abord filtrer pour ne garder que les collaborations qui ont fait l'objet de deux artistes. Comme vous l'avez déjà deviné, la colonne artistes, telle qu'elle se présente maintenant, n'est pas très exploitable. De ce fait, nous aurons besoin de la modifier pour ressortir les duos.\n",
    "\n",
    "Il est possible d'avoir un seul à plusieurs artistes. Nous allons commencer par zoomer sur les collaborations (>= 2 artistes). Pour ce faire, nous allons __1. définir une fonction nombre_artistes__ qui retourne le nombre des artistes qui collaborent sur une piste. Et puis __2. créer une nouvelle colonne__ et lui assigner le résultat de apply de cette fonction sur le dataframe. Penser à diviser le string artists en une liste. "
   ]
  },
  {
   "cell_type": "code",
   "execution_count": null,
   "metadata": {},
   "outputs": [],
   "source": []
  },
  {
   "cell_type": "code",
   "execution_count": null,
   "metadata": {},
   "outputs": [],
   "source": []
  },
  {
   "cell_type": "markdown",
   "metadata": {},
   "source": [
    "<br> Afficher le nombre des collaborations selon leur taille."
   ]
  },
  {
   "cell_type": "code",
   "execution_count": null,
   "metadata": {},
   "outputs": [],
   "source": []
  },
  {
   "cell_type": "markdown",
   "metadata": {},
   "source": [
    "<br> Créer une nouvelle dataframe qui ne contient que les duos. Cette dataframe sera dorénavant l'objet de nos manipulations."
   ]
  },
  {
   "cell_type": "code",
   "execution_count": null,
   "metadata": {},
   "outputs": [],
   "source": []
  },
  {
   "cell_type": "markdown",
   "metadata": {},
   "source": [
    "<br> Créer deux nouvelles colonnes correspondant respectivement aux deux artistes du duo. Il est possible de le faire directement en utilisant la fonction divisant le string en deux et l'assignant aux colonnes. Comme il est opportun de le faire en utilisant la fonction explode qui est peu connue mais extremement utile. Essayer de le faire des deux manières:   "
   ]
  },
  {
   "cell_type": "code",
   "execution_count": null,
   "metadata": {},
   "outputs": [],
   "source": []
  },
  {
   "cell_type": "markdown",
   "metadata": {},
   "source": []
  },
  {
   "cell_type": "markdown",
   "metadata": {},
   "source": [
    "<br> S'assurer que les noms des artistes ne contiennent pas de caractères spéciaux au début et à la fin..."
   ]
  },
  {
   "cell_type": "code",
   "execution_count": null,
   "metadata": {},
   "outputs": [],
   "source": []
  },
  {
   "cell_type": "markdown",
   "metadata": {},
   "source": [
    "<br> En utilisant la fonction de groupage sur Pandas, afficher le nombre de collaborations entre les paires d'artists. Afficher les 10 collaborations les plus fréquentes."
   ]
  },
  {
   "cell_type": "code",
   "execution_count": null,
   "metadata": {},
   "outputs": [],
   "source": []
  },
  {
   "cell_type": "markdown",
   "metadata": {},
   "source": [
    "<br> Il est également possible de calculer la moyenne des valeurs d'acousticness,'danceability', 'duration_ms', 'energy'... par pair d'artistes. Penser à ne l'appliquer que là où ça a un sens."
   ]
  },
  {
   "cell_type": "code",
   "execution_count": null,
   "metadata": {},
   "outputs": [],
   "source": []
  },
  {
   "cell_type": "markdown",
   "metadata": {},
   "source": [
    "<br> On voudrait zoomer sur un artiste en particulier pour voir les pistes duos qu'il a sorti, et analyser par la suite leur succès. Filtrer sur un artiste de votre choix qui répond au critère suivant: Il y a des piste où il est artiste 1 et d'autres où il est artiste 2. "
   ]
  },
  {
   "cell_type": "code",
   "execution_count": null,
   "metadata": {},
   "outputs": [],
   "source": []
  },
  {
   "cell_type": "markdown",
   "metadata": {},
   "source": [
    "<br> Créer deux Dataframe: une où votre artiste choisi est artiste 1, l'autre où il est artiste 2. "
   ]
  },
  {
   "cell_type": "code",
   "execution_count": null,
   "metadata": {},
   "outputs": [],
   "source": []
  },
  {
   "cell_type": "code",
   "execution_count": null,
   "metadata": {},
   "outputs": [],
   "source": []
  },
  {
   "cell_type": "markdown",
   "metadata": {},
   "source": [
    "<br> Dans une nouvelle Dataframe __df_artiste_duo__, fusionner les deux dataframe de manière à avoir votre artiste dans la colonne artiste 1. Quelles méthodes peut-on suivre? Quelle est la plus optimale?\n",
    "\n",
    "Cette nouvelle Dataframe nous servira à analyser les pistes duos de notre artiste dans plus de détails. "
   ]
  },
  {
   "cell_type": "code",
   "execution_count": null,
   "metadata": {},
   "outputs": [],
   "source": []
  },
  {
   "cell_type": "markdown",
   "metadata": {},
   "source": [
    "<br> On voudrait ajouter à cette dataframe l'information du genre musical de l'artiste avec qui la collaboration s'est effectuée. Lire le fichier data_w_genre et stocker ses données dans une DataFrame."
   ]
  },
  {
   "cell_type": "code",
   "execution_count": null,
   "metadata": {},
   "outputs": [],
   "source": []
  },
  {
   "cell_type": "markdown",
   "metadata": {},
   "source": [
    "<br> Fusionner les deux Dataframes df_artiste_duo et df_genre afin d'ajouter uniquement la colonne \"genre\" à df_artiste_duo. "
   ]
  },
  {
   "cell_type": "code",
   "execution_count": null,
   "metadata": {},
   "outputs": [],
   "source": []
  },
  {
   "cell_type": "markdown",
   "metadata": {},
   "source": [
    "<br> Fusionner les deux Dataframe qui calculent respectivement le nombre des pistes duos par artiste (collaborateur) et la moyenne des variables du même artiste."
   ]
  },
  {
   "cell_type": "code",
   "execution_count": null,
   "metadata": {},
   "outputs": [],
   "source": []
  },
  {
   "cell_type": "markdown",
   "metadata": {},
   "source": [
    "<br> Ecrire vos dataframes dans des fichiers csv pour toute réutilisation potentielle.  "
   ]
  },
  {
   "cell_type": "code",
   "execution_count": null,
   "metadata": {},
   "outputs": [],
   "source": []
  },
  {
   "cell_type": "code",
   "execution_count": null,
   "metadata": {},
   "outputs": [],
   "source": []
  },
  {
   "cell_type": "markdown",
   "metadata": {},
   "source": [
    "<br></br>\n",
    "#### Bonus:"
   ]
  },
  {
   "cell_type": "markdown",
   "metadata": {},
   "source": [
    "Vous pouvez créer davantage de manipulation en utilisant les fonctions de groupage, fusion, ou application des fonctions (apply, applymap). Vous pouvez également enrichir votre dataset par des données puisées de l'API Spotify!"
   ]
  },
  {
   "cell_type": "code",
   "execution_count": null,
   "metadata": {},
   "outputs": [],
   "source": []
  },
  {
   "cell_type": "code",
   "execution_count": null,
   "metadata": {},
   "outputs": [],
   "source": []
  },
  {
   "cell_type": "code",
   "execution_count": null,
   "metadata": {},
   "outputs": [],
   "source": []
  },
  {
   "cell_type": "code",
   "execution_count": null,
   "metadata": {},
   "outputs": [],
   "source": []
  },
  {
   "cell_type": "code",
   "execution_count": null,
   "metadata": {},
   "outputs": [],
   "source": []
  },
  {
   "cell_type": "code",
   "execution_count": null,
   "metadata": {},
   "outputs": [],
   "source": []
  }
 ],
 "metadata": {
  "kernelspec": {
   "display_name": "Python 3",
   "language": "python",
   "name": "python3"
  },
  "language_info": {
   "codemirror_mode": {
    "name": "ipython",
    "version": 3
   },
   "file_extension": ".py",
   "mimetype": "text/x-python",
   "name": "python",
   "nbconvert_exporter": "python",
   "pygments_lexer": "ipython3",
   "version": "3.9.2"
  }
 },
 "nbformat": 4,
 "nbformat_minor": 4
}
